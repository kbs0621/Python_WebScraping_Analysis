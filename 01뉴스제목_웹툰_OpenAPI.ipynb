{
 "cells": [
  {
   "cell_type": "markdown",
   "id": "eb0bfa44",
   "metadata": {},
   "source": [
    "## 1. 뉴스제목 가져오기\n",
    "* user-agent 요청헤더를 반드시 설정해야 한다."
   ]
  },
  {
   "cell_type": "code",
   "execution_count": 18,
   "id": "f0d27781",
   "metadata": {},
   "outputs": [
    {
     "name": "stdout",
     "output_type": "stream",
     "text": [
      "Name: requests\n",
      "Version: 2.32.3\n",
      "Summary: Python HTTP for Humans.\n",
      "Home-page: https://requests.readthedocs.io\n",
      "Author: Kenneth Reitz\n",
      "Author-email: me@kennethreitz.org\n",
      "License: Apache-2.0\n",
      "Location: C:\\Users\\user\\anaconda3\\Lib\\site-packages\n",
      "Requires: certifi, charset-normalizer, idna, urllib3\n",
      "Required-by: anaconda-catalogs, anaconda-client, anaconda-cloud-auth, anaconda-project, conda, conda-build, conda-repo-cli, conda_package_streaming, cookiecutter, datasets, datashader, huggingface-hub, jupyterlab_server, panel, requests-file, requests-toolbelt, Sphinx, streamlit, tldextract, transformers\n"
     ]
    }
   ],
   "source": [
    "# requests 라이브러리 설치여부 확인\n",
    "!pip show requests"
   ]
  },
  {
   "cell_type": "code",
   "execution_count": 19,
   "id": "f7798ea8",
   "metadata": {},
   "outputs": [
    {
     "name": "stdout",
     "output_type": "stream",
     "text": [
      "Name: beautifulsoup4\n",
      "Version: 4.12.3\n",
      "Summary: Screen-scraping library\n",
      "Home-page: https://www.crummy.com/software/BeautifulSoup/bs4/\n",
      "Author: \n",
      "Author-email: Leonard Richardson <leonardr@segfault.org>\n",
      "License: MIT License\n",
      "Location: C:\\Users\\user\\anaconda3\\Lib\\site-packages\n",
      "Requires: soupsieve\n",
      "Required-by: conda-build, nbconvert\n"
     ]
    }
   ],
   "source": [
    "# beautifulsoup4 라이브러리 설치여부 확인\n",
    "!pip show beautifulsoup4"
   ]
  },
  {
   "cell_type": "code",
   "execution_count": 2,
   "id": "bf80a429",
   "metadata": {},
   "outputs": [],
   "source": [
    "# reqeusts, bs4 import\n",
    "import requests\n",
    "\n",
    "# BeautifulSoup import\n",
    "import bs4\n",
    "# BeautifulSoup 클래스 import\n",
    "from bs4 import BeautifulSoup"
   ]
  },
  {
   "cell_type": "code",
   "execution_count": 21,
   "id": "9788d6ac",
   "metadata": {},
   "outputs": [
    {
     "name": "stdout",
     "output_type": "stream",
     "text": [
      "requests 버전 = 2.32.3\n",
      "bs4 버전 = 4.12.3\n"
     ]
    }
   ],
   "source": [
    "# requests, bs4 버전 확인하기\n",
    "print(f\"requests 버전 = {requests.__version__}\")\n",
    "print(f\"bs4 버전 = {bs4.__version__}\")"
   ]
  },
  {
   "cell_type": "markdown",
   "id": "ccb91def-cde3-4aeb-b0e5-2e7233500333",
   "metadata": {},
   "source": [
    "### 1. 뉴스 제목 추출하기"
   ]
  },
  {
   "cell_type": "code",
   "execution_count": 22,
   "id": "94c12fd6",
   "metadata": {},
   "outputs": [
    {
     "name": "stdout",
     "output_type": "stream",
     "text": [
      "https://news.naver.com/section/105\n"
     ]
    }
   ],
   "source": [
    "# IT/과학 뉴스 \n",
    "req_param = {\n",
    "    'sid0' : 100,\n",
    "    'sid1' : 101,\n",
    "    'sid2' : 102,\n",
    "    'sid3' : 103,\n",
    "    'sid4' : 104,\n",
    "    'sid' : 105\n",
    "}\n",
    "\n",
    "#sid = 105\n",
    "#url = f'https://news.naver.com/section/{sid}'\n",
    "url = 'https://news.naver.com/section/{sid}'.format(**req_param)\n",
    "print(url)\n"
   ]
  },
  {
   "cell_type": "code",
   "execution_count": 63,
   "id": "9dfb8381",
   "metadata": {},
   "outputs": [
    {
     "name": "stdout",
     "output_type": "stream",
     "text": [
      "https://news.naver.com/section/102\n",
      "200 True\n",
      "<class 'requests.models.Response'>\n",
      "<Response [200]>\n",
      "46\n",
      "1 : 경찰, '옹벽 붕괴사고' 오산시·현대건설 압수수색 : https://n.news.naver.com/mnews/article/277/0005625985\n",
      "2 : 복지부, 전공의 3대 요구안에 \"국민 눈높이 맞게 협의\" : https://n.news.naver.com/mnews/article/469/0000877250\n",
      "3 : 이 대통령 '대북송금' 재판도 연기…5개 형사재판 모두 중단 : https://n.news.naver.com/mnews/article/437/0000449583\n",
      "4 : 정은경 복지부 장관 “국민 건강·복지 지키는 부처 만들겠다” : https://n.news.naver.com/mnews/article/119/0002982150\n",
      "5 : 부산, 2028 세계디자인수도 선정…\"도시 변화 잠재력 지녀\" : https://n.news.naver.com/mnews/article/001/0015521439\n",
      "6 : 내란특검, '평양 무인기 의혹' 수사 계속…오늘 여인형 소환 : https://n.news.naver.com/mnews/article/422/0000762416\n",
      "7 : 대법 \"개발제한구역 LPG충전소 '취락지구 200ｍ밖' 市고시 정당\" : https://n.news.naver.com/mnews/article/001/0015522153\n",
      "8 : 김계환 전 해병대 사령관 구속심사…해병특검 첫 신병확보 시도 : https://n.news.naver.com/mnews/article/422/0000762421\n",
      "9 : 새마을금고, 호우 피해복구에 10억 전달·긴급 금융지원 : https://n.news.naver.com/mnews/article/018/0006070685\n",
      "10 : ‘사제 총기로 아들 살해’ 피의자, 오늘 영장심사…“출석 거부” : https://n.news.naver.com/mnews/article/056/0011993680\n",
      "11 : ‘김건희 집사’ 측근 조사하며 수사 확대···“조현상 부회장은 연락 안 받아” : https://n.news.naver.com/mnews/article/032/0003384536\n",
      "12 : [속보] 오요안나 사건 첫 재판…가해자 지목 동료 \"괴롭힌 적 없어, 오히려 좋은 관계\" : https://n.news.naver.com/mnews/article/088/0000960396\n",
      "13 : 김재규 재심에 부마단체 \"박정희 독재 재조명 계기로\" : https://n.news.naver.com/mnews/article/047/0002481929\n",
      "14 : [단독] 윤석열 29일 조사 '도이치 허위발언' 포함…\"네달 맡겼다 손실났다\" 묻는다 : https://n.news.naver.com/mnews/article/437/0000449619\n",
      "15 : 특검, 내일 신한투자증권 대표 소환…삼부 부회장 체포 돌입(종합) : https://n.news.naver.com/mnews/article/001/0015522873\n",
      "16 : 장례도 못 치렀다…가평 캠핑 일가족 중 1명 사망·2명 실종 : https://n.news.naver.com/mnews/article/015/0005161193\n",
      "17 : 물난리 끝나니 또 물난리... 단수된 울산 서부권 3일 만에 수도 공급 : https://n.news.naver.com/mnews/article/009/0005529138\n",
      "18 : \"성공한 전 부인에 열등감…고통 주려 아들 총격 살해\" : https://n.news.naver.com/mnews/article/057/0001898183\n",
      "19 : [영상] \"이건 학대\"…털 박박 깎인채 7시간만에 파양된 2살 유기견 : https://n.news.naver.com/mnews/article/001/0015522870\n",
      "20 : 김계환 구속 기로... \"尹 격노 들었다\" 인정하면서도 구속 부당 주장 : https://n.news.naver.com/mnews/article/469/0000877402\n",
      "21 : “자녀보호 앱인 줄 알았더니 외도 감시용” 불법 감청앱으로 27억 챙긴 일당 적발 : https://n.news.naver.com/mnews/article/009/0005529135\n",
      "22 : 7개월 쌍둥이 살해한 아내... 남편 \"제가 다정했으면\" 눈물로 선처 구했다 : https://n.news.naver.com/mnews/article/469/0000877400\n",
      "23 : 2년 만에 VIP 격노설 인정한 김계환…\"소문으로 들어\" : https://n.news.naver.com/mnews/article/018/0006071133\n",
      "24 : [영상] \"더 늦기 전에...\" 각계 원로, 세종호텔·한국옵티칼 문제 해결 촉구 : https://n.news.naver.com/mnews/article/047/0002481927\n",
      "25 : \"제주도 보다 더한 비계 삼겹살\"…육지랑 다른 맛이라더니 사실 '찌개용' 고기였다 : https://n.news.naver.com/mnews/article/011/0004512154\n",
      "26 : 한국노총, 국무총리에 노란봉투법·정년연장 당부…\"소통 정례화\" : https://n.news.naver.com/mnews/article/003/0013378116\n",
      "27 : “고작 ‘10만원’ 훔치려고”…20년 지기 친구 살해 男, 무기징역 : https://n.news.naver.com/mnews/article/009/0005529130\n",
      "28 : \"복구 도와주세요\"...실종 4명도 사흘째 수색 : https://n.news.naver.com/mnews/article/052/0002222881\n",
      "29 : '악취' 화장실 앞에서 무너지는 버스기사…\"요의 참고 운전대 잡는 게 일상\" : https://n.news.naver.com/mnews/article/079/0004047832\n",
      "30 : 독박 육아 스트레스에 7개월 쌍둥이 살해 친모…남편 “다 내 탓” 선처 호소 : https://n.news.naver.com/mnews/article/009/0005529120\n",
      "31 : '집회서 15억 모금' 전광훈 목사…檢, 징역 10월 구형 : https://n.news.naver.com/mnews/article/003/0013378097\n",
      "32 : 김건희 특검팀 \"尹부부 소환 통보 후 출석의사 아직 듣지 못해\" : https://n.news.naver.com/mnews/article/003/0013378096\n",
      "33 : 의정부고에 나타난 방시혁·과즙세연?…올해도 빵 터진 졸업사진 : https://n.news.naver.com/mnews/article/422/0000762559\n",
      "34 : [자막뉴스] '아들 왜 죽였냐' 묻자 \"알려고 하지 마\"…영장 심사도 안 나온 '인천 총격' 피의자 : https://n.news.naver.com/mnews/article/055/0001277487\n",
      "35 : 의협·전공의협, 정은경 장관에 \"지속가능 의료 위한 대화 희망\"(종합) : https://n.news.naver.com/mnews/article/001/0015522817\n",
      "36 : 특검, 삼부토건 이기훈 부회장 체포영장…그물망 조여 : https://n.news.naver.com/mnews/article/079/0004047826\n",
      "37 : 의대 총장들 \"의대 4학년 추가 의사국시 실시 정부 건의키로\" : https://n.news.naver.com/mnews/article/001/0015522816\n",
      "38 : '빚더미·우울증' 60대 어머니, 딸 살해 2심 징역 15년…\"죄질 매우 나빠\" : https://n.news.naver.com/mnews/article/003/0013378051\n",
      "39 : 경찰 '오산 옹벽' 오산시 등 압수수색…업무상 과실치사 혐의 : https://n.news.naver.com/mnews/article/025/0003456846\n",
      "40 : 재판 중 '출생신고' 마친 혼외자, 범죄자 친부 도피 무죄 : https://n.news.naver.com/mnews/article/001/0015522806\n",
      "41 : 사제 총기로 아들 살해 60대…“성공한 전처에 열등감 느껴 계획 범행했을 것” : https://n.news.naver.com/mnews/article/022/0004053793\n",
      "42 : '당근마켓'에 허위 부동산 매물.. 수억 원 가로챈 일당 구속 송치 : https://n.news.naver.com/mnews/article/659/0000035171\n",
      "43 : 서울 서남권 가짜 빌라 매물 주의보…당근에 올려 계약금만 가로채 : https://n.news.naver.com/mnews/article/021/0002724450\n",
      "44 : 프로파일러 \"아들 총격父, 전부인에게 고통 주기위한 복수 수단\" : https://n.news.naver.com/mnews/article/014/0005380742\n",
      "45 : 허핑턴포스트 졸속 매각 논란…\"한겨레, 민주주의 지키지 않아\" : https://n.news.naver.com/mnews/article/006/0000130983\n",
      "46 : 2043년 대학 신입생 절반도 못 채운다…입학자원 급감 '경고등' : https://n.news.naver.com/mnews/article/088/0000960389\n"
     ]
    }
   ],
   "source": [
    "req_param = {\n",
    "    'sid0' : 100,\n",
    "    'sid1' : 101,\n",
    "    'sid2' : 102,\n",
    "    'sid3' : 103,\n",
    "    'sid4' : 104,\n",
    "    'sid' : 105\n",
    "}\n",
    "\n",
    "url = 'https://news.naver.com/section/{sid2}'.format(**req_param)\n",
    "print(url)\n",
    "\n",
    "# 요청 헤더 설정 : 브라우저 정보 / 사람이 웹서핑하는 것처럼 보이기 위해서 설정함\n",
    "req_header = {\n",
    "    \"user-agent\" : \"Mozilla/5.0 (Windows NT 10.0; Win64; x64) AppleWebKit/537.36 (KHTML, like Gecko) Chrome/138.0.0.0 Safari/537.36\"\n",
    "}\n",
    "\n",
    "# requests 의 get() 함수 호출하기 \n",
    "res = requests.get(url,headers=req_header)\n",
    "print(res.status_code, res.ok)\n",
    "print(type(res))\n",
    "print(res)\n",
    "\n",
    "# 응답(response)이 OK 이면\n",
    "# 응답 (response)에서 text 추출\n",
    "if res.ok:\n",
    "    html = res.text\n",
    "    # BeautifulSoup 객체 생성\n",
    "    soup = BeautifulSoup(html,\"html.parser\")\n",
    "    #print(soup)\n",
    "    # CSS 선택자    \n",
    "    # print(soup.select(\"div.sa_text a[href*='mnews/article']\"))\n",
    "    '''\n",
    "        <div class = 'sa_text'>\n",
    "            <a href = \"\">\n",
    "\n",
    "        soup.select(\"div{class}.sa_text{class_name} a\")\n",
    "    '''\n",
    "\n",
    "    #a_tags = soup.select(\"div.sa_text a[href*='mnews/article/'] \")\n",
    "    #print(len(a_tags))\n",
    "\n",
    "    # soup.select(css 정보) : css 정보를 확실하게 넣어줘야 함\n",
    "    a_tags = soup.select(\"div.sa_text a[href*='news/article/'].sa_text_title\")\n",
    "    print(len(a_tags))\n",
    "    for idx, a_tag in enumerate(a_tags,1):\n",
    "        if a_tag.text:\n",
    "            title = a_tag.text.strip()\n",
    "            link = a_tag['href']\n",
    "            print(f\"{idx} : {title} : {link}\")\n",
    "else:\n",
    "    print(f\"Error Code = {res.status_code}\")\n",
    "    \n",
    "\n",
    "            \n",
    "    \n",
    "# <a> 태그 리스트 순회하기    \n",
    "\n",
    "# 응답(response)이 Error 이면 status code 출력    \n",
    "\n"
   ]
  },
  {
   "cell_type": "markdown",
   "id": "45640860-a449-4285-90d7-5f300292b461",
   "metadata": {},
   "source": [
    "### 1.1 뉴스제목 추출하는 함수 선언하기"
   ]
  },
  {
   "cell_type": "code",
   "execution_count": 59,
   "id": "9f2e4ef8",
   "metadata": {},
   "outputs": [],
   "source": [
    "import requests\n",
    "from bs4 import BeautifulSoup\n",
    "\n",
    "section_dict = {'정치' : 100, '경제' : 101,'사회' : 102,'생활/문화' : 103,'세계' : 104, 'IT/과학' : 105}\n",
    "\n",
    "def print_news(section):  #print_new('생활/문화')\n",
    "    sid = section_dict[section]\n",
    "    url = f'https://news.naver.com/section/{sid}'\n",
    "    print(f\"{url} : {section} 뉴스\")\n",
    "\n",
    "    req_header = {\n",
    "    \"user-agent\" : \"Mozilla/5.0 (Windows NT 10.0; Win64; x64) AppleWebKit/537.36 (KHTML, like Gecko) Chrome/138.0.0.0 Safari/537.36\"\n",
    "    }\n",
    "    \n",
    "    res = requests.get(url,headers=req_header)\n",
    "    print(res.status_code, res.ok)\n",
    "    if res.ok:\n",
    "        html = res.text\n",
    "        # BeautifulSoup 객체 생성\n",
    "        soup = BeautifulSoup(html,\"html.parser\")\n",
    "        a_tags = soup.select(\"div.sa_text a[href*='news/article/'].sa_text_title\")\n",
    "        print(len(a_tags))\n",
    "        for idx, a_tag in enumerate(a_tags,1):\n",
    "            if a_tag.text:\n",
    "                title = a_tag.text.strip()\n",
    "                link = a_tag['href']\n",
    "                print(f\"{idx} : {title} : {link}\")\n",
    "\n",
    "    else:\n",
    "        print(f\"Error Code = {res.status_code}\")\n",
    "\n"
   ]
  },
  {
   "cell_type": "code",
   "execution_count": 64,
   "id": "858952c6",
   "metadata": {},
   "outputs": [
    {
     "name": "stdout",
     "output_type": "stream",
     "text": [
      "https://news.naver.com/section/102 : 사회 뉴스\n",
      "200 True\n",
      "46\n",
      "1 : '평양 무인기 의혹' 김용대 드론작전사령관 구속영장 '기각' : https://n.news.naver.com/mnews/article/018/0006070492\n",
      "2 : 도로 침수, 직원들 ‘폭우 비상근무’ 중인데…구리시장, 야유회서 덩실덩실 : https://n.news.naver.com/mnews/article/009/0005528862\n",
      "3 : 생일상 차린 아들에 사제총 쏜 父… 자택엔 타이머 맞춘 폭발물 : https://n.news.naver.com/mnews/article/022/0004053492\n",
      "4 : 호송 도중 여성 피의자 추행 혐의 전 경찰관, 1심서 무죄 : https://n.news.naver.com/mnews/article/001/0015522468\n",
      "5 : '스테로이드 불법 제조·판매' 모자 적발…12억6천만원 규모 : https://n.news.naver.com/mnews/article/001/0015521578\n",
      "6 : 삼부토건 ‘그림자 실세’ 공개 수배…“밀항 가능성” [자막뉴스] : https://n.news.naver.com/mnews/article/449/0000315505\n",
      "7 : 경찰, '옹벽 붕괴사고' 오산시·현대건설 압수수색 : https://n.news.naver.com/mnews/article/277/0005625985\n",
      "8 : 지난해 고2 수학 '기초학력 미달 비율' 12.6%…4%p 감소 : https://n.news.naver.com/mnews/article/079/0004047688\n",
      "9 : 대북송금도 연기, 이재명 대통령 관련 재판 모두 중단 : https://n.news.naver.com/mnews/article/018/0006071066\n",
      "10 : 당근마켓에 허위 부동산 매물…계약금 3억 넘게 챙긴 사기 일당 검거 : https://n.news.naver.com/mnews/article/448/0000544239\n",
      "11 : ‘김건희 집사’ 측근 조사하며 수사 확대···“조현상 부회장은 연락 안 받아” : https://n.news.naver.com/mnews/article/032/0003384536\n",
      "12 : [속보] 오요안나 사건 첫 재판…가해자 지목 동료 \"괴롭힌 적 없어, 오히려 좋은 관계\" : https://n.news.naver.com/mnews/article/088/0000960396\n",
      "13 : 김재규 재심에 부마단체 \"박정희 독재 재조명 계기로\" : https://n.news.naver.com/mnews/article/047/0002481929\n",
      "14 : [단독] 윤석열 29일 조사 '도이치 허위발언' 포함…\"네달 맡겼다 손실났다\" 묻는다 : https://n.news.naver.com/mnews/article/437/0000449619\n",
      "15 : 특검, 내일 신한투자증권 대표 소환…삼부 부회장 체포 돌입(종합) : https://n.news.naver.com/mnews/article/001/0015522873\n",
      "16 : 장례도 못 치렀다…가평 캠핑 일가족 중 1명 사망·2명 실종 : https://n.news.naver.com/mnews/article/015/0005161193\n",
      "17 : 물난리 끝나니 또 물난리... 단수된 울산 서부권 3일 만에 수도 공급 : https://n.news.naver.com/mnews/article/009/0005529138\n",
      "18 : \"성공한 전 부인에 열등감…고통 주려 아들 총격 살해\" : https://n.news.naver.com/mnews/article/057/0001898183\n",
      "19 : [영상] \"이건 학대\"…털 박박 깎인채 7시간만에 파양된 2살 유기견 : https://n.news.naver.com/mnews/article/001/0015522870\n",
      "20 : 김계환 구속 기로... \"尹 격노 들었다\" 인정하면서도 구속 부당 주장 : https://n.news.naver.com/mnews/article/469/0000877402\n",
      "21 : “자녀보호 앱인 줄 알았더니 외도 감시용” 불법 감청앱으로 27억 챙긴 일당 적발 : https://n.news.naver.com/mnews/article/009/0005529135\n",
      "22 : 7개월 쌍둥이 살해한 아내... 남편 \"제가 다정했으면\" 눈물로 선처 구했다 : https://n.news.naver.com/mnews/article/469/0000877400\n",
      "23 : 2년 만에 VIP 격노설 인정한 김계환…\"소문으로 들어\" : https://n.news.naver.com/mnews/article/018/0006071133\n",
      "24 : [영상] \"더 늦기 전에...\" 각계 원로, 세종호텔·한국옵티칼 문제 해결 촉구 : https://n.news.naver.com/mnews/article/047/0002481927\n",
      "25 : \"제주도 보다 더한 비계 삼겹살\"…육지랑 다른 맛이라더니 사실 '찌개용' 고기였다 : https://n.news.naver.com/mnews/article/011/0004512154\n",
      "26 : 한국노총, 국무총리에 노란봉투법·정년연장 당부…\"소통 정례화\" : https://n.news.naver.com/mnews/article/003/0013378116\n",
      "27 : “고작 ‘10만원’ 훔치려고”…20년 지기 친구 살해 男, 무기징역 : https://n.news.naver.com/mnews/article/009/0005529130\n",
      "28 : \"복구 도와주세요\"...실종 4명도 사흘째 수색 : https://n.news.naver.com/mnews/article/052/0002222881\n",
      "29 : '악취' 화장실 앞에서 무너지는 버스기사…\"요의 참고 운전대 잡는 게 일상\" : https://n.news.naver.com/mnews/article/079/0004047832\n",
      "30 : 독박 육아 스트레스에 7개월 쌍둥이 살해 친모…남편 “다 내 탓” 선처 호소 : https://n.news.naver.com/mnews/article/009/0005529120\n",
      "31 : '집회서 15억 모금' 전광훈 목사…檢, 징역 10월 구형 : https://n.news.naver.com/mnews/article/003/0013378097\n",
      "32 : 김건희 특검팀 \"尹부부 소환 통보 후 출석의사 아직 듣지 못해\" : https://n.news.naver.com/mnews/article/003/0013378096\n",
      "33 : 의정부고에 나타난 방시혁·과즙세연?…올해도 빵 터진 졸업사진 : https://n.news.naver.com/mnews/article/422/0000762559\n",
      "34 : [자막뉴스] '아들 왜 죽였냐' 묻자 \"알려고 하지 마\"…영장 심사도 안 나온 '인천 총격' 피의자 : https://n.news.naver.com/mnews/article/055/0001277487\n",
      "35 : 의협·전공의협, 정은경 장관에 \"지속가능 의료 위한 대화 희망\"(종합) : https://n.news.naver.com/mnews/article/001/0015522817\n",
      "36 : 특검, 삼부토건 이기훈 부회장 체포영장…그물망 조여 : https://n.news.naver.com/mnews/article/079/0004047826\n",
      "37 : 의대 총장들 \"의대 4학년 추가 의사국시 실시 정부 건의키로\" : https://n.news.naver.com/mnews/article/001/0015522816\n",
      "38 : '빚더미·우울증' 60대 어머니, 딸 살해 2심 징역 15년…\"죄질 매우 나빠\" : https://n.news.naver.com/mnews/article/003/0013378051\n",
      "39 : 경찰 '오산 옹벽' 오산시 등 압수수색…업무상 과실치사 혐의 : https://n.news.naver.com/mnews/article/025/0003456846\n",
      "40 : 재판 중 '출생신고' 마친 혼외자, 범죄자 친부 도피 무죄 : https://n.news.naver.com/mnews/article/001/0015522806\n",
      "41 : 사제 총기로 아들 살해 60대…“성공한 전처에 열등감 느껴 계획 범행했을 것” : https://n.news.naver.com/mnews/article/022/0004053793\n",
      "42 : '당근마켓'에 허위 부동산 매물.. 수억 원 가로챈 일당 구속 송치 : https://n.news.naver.com/mnews/article/659/0000035171\n",
      "43 : 서울 서남권 가짜 빌라 매물 주의보…당근에 올려 계약금만 가로채 : https://n.news.naver.com/mnews/article/021/0002724450\n",
      "44 : 프로파일러 \"아들 총격父, 전부인에게 고통 주기위한 복수 수단\" : https://n.news.naver.com/mnews/article/014/0005380742\n",
      "45 : 허핑턴포스트 졸속 매각 논란…\"한겨레, 민주주의 지키지 않아\" : https://n.news.naver.com/mnews/article/006/0000130983\n",
      "46 : 2043년 대학 신입생 절반도 못 채운다…입학자원 급감 '경고등' : https://n.news.naver.com/mnews/article/088/0000960389\n"
     ]
    }
   ],
   "source": [
    "#print_news('IT/과학')\n",
    "\n",
    "i = input(\"뉴스의 섹션을 선택하세요 : \")\n",
    "print_news(i)"
   ]
  },
  {
   "cell_type": "markdown",
   "id": "323196dc",
   "metadata": {},
   "source": [
    "### 2. Image 다운로드\n",
    "* referer 요청 헤더를 반드시 설정해야 한다."
   ]
  },
  {
   "cell_type": "code",
   "execution_count": null,
   "id": "c72d6cb1",
   "metadata": {},
   "outputs": [],
   "source": [
    "import requests\n",
    "import os\n",
    "\n",
    "req_header = {\n",
    "    'referer':''\n",
    "}\n",
    "\n",
    "img_urls = [\n",
    "    'https://image-comic.pstatic.net/webtoon/798173/5/20220804112251_d97bd1e1b38f0cd022e4e3639d2926b3_IMAG01_1.jpg',\n",
    "    'https://image-comic.pstatic.net/webtoon/798173/5/20220804112251_d97bd1e1b38f0cd022e4e3639d2926b3_IMAG01_2.jpg',\n",
    "    'https://image-comic.pstatic.net/webtoon/798173/5/20220804112251_d97bd1e1b38f0cd022e4e3639d2926b3_IMAG01_3.jpg'\n",
    "]\n",
    "\n",
    "for img_url in img_urls:\n",
    "    pass\n",
    "    # requests 의 get(url, headers) 함수 호출하기 \n",
    "        \n",
    "        # binary 응답 데이터 가져오기\n",
    "        \n",
    "        # url에서 파일명만 추출하기\n",
    "        \n",
    "        # binday data를 file에 write하기\n"
   ]
  },
  {
   "cell_type": "markdown",
   "id": "e8b00a04",
   "metadata": {},
   "source": [
    "* 현재 요청된 페이지의 image 모두 다운로드 해보기"
   ]
  },
  {
   "cell_type": "code",
   "execution_count": null,
   "id": "b30f7bf5",
   "metadata": {},
   "outputs": [],
   "source": []
  },
  {
   "cell_type": "markdown",
   "id": "2ac9f5f9",
   "metadata": {},
   "source": [
    "### 3. 파일 업로드 하기\n",
    "* http://httpbin.org/post 업로드 요청을 할 수 있는 url"
   ]
  },
  {
   "cell_type": "code",
   "execution_count": null,
   "id": "04da4790",
   "metadata": {},
   "outputs": [
    {
     "name": "stdout",
     "output_type": "stream",
     "text": [
      "200\n"
     ]
    }
   ],
   "source": [
    "import requests\n",
    "\n",
    "upload_files = {\n",
    "    \n",
    "}\n",
    "#print(upload_files)\n",
    "\n",
    "url = 'http://httpbin.org/post'\n",
    "# file 업로드 하려면 requests의 post 함수에 files 속성을 사용합니다.\n",
    "\n"
   ]
  },
  {
   "cell_type": "markdown",
   "id": "7ad65f12",
   "metadata": {},
   "source": [
    "### 4. 캡챠(이미지) API 호출하기\n",
    "* urllib 사용\n",
    "* 1. 캡차 키 발급 요청\n",
    "  2. 캡차 이미지 요청\n",
    "  3. 사용자 입력값 검증 요청"
   ]
  },
  {
   "cell_type": "code",
   "execution_count": null,
   "id": "bc4ae360-e772-4873-8642-d3494edd34e1",
   "metadata": {},
   "outputs": [],
   "source": [
    "# 캡차 키 발급 요청\n"
   ]
  },
  {
   "cell_type": "code",
   "execution_count": null,
   "id": "7b95b6a0-c218-4792-82a6-da4d80872071",
   "metadata": {},
   "outputs": [],
   "source": [
    "# 캡차 이미지 요청\n"
   ]
  },
  {
   "cell_type": "code",
   "execution_count": null,
   "id": "a79076af-2cd0-4de2-8301-316b9130c55e",
   "metadata": {},
   "outputs": [],
   "source": [
    "#  사용자 입력값 검증 요청\n",
    "\n"
   ]
  },
  {
   "cell_type": "markdown",
   "id": "b7d984a6",
   "metadata": {},
   "source": [
    "* requests를 사용하는 코드로 변경하기\n",
    "* [requests docs](https://requests.readthedocs.io/en/latest/user/quickstart/)"
   ]
  },
  {
   "cell_type": "code",
   "execution_count": null,
   "id": "727b427b",
   "metadata": {
    "scrolled": true
   },
   "outputs": [
    {
     "name": "stdout",
     "output_type": "stream",
     "text": [
      "Error Code: 403\n"
     ]
    }
   ],
   "source": [
    "# 사용자 입력값 검증 요청\n",
    "\n"
   ]
  },
  {
   "cell_type": "markdown",
   "id": "d5e1179a",
   "metadata": {},
   "source": [
    "### 5. 블로그 검색하기"
   ]
  },
  {
   "cell_type": "code",
   "execution_count": null,
   "id": "877d0c7f",
   "metadata": {},
   "outputs": [],
   "source": [
    "import requests\n",
    "import pprint\n",
    "\n",
    "headers = {\n",
    "    'X-Naver-Client-Id': '',\n",
    "    'X-Naver-Client-Secret': '',\n",
    "}\n",
    "\n",
    "payload = {\n",
    "    'query': '파이썬',\n",
    "    'display': 100,\n",
    "    'sort': 'sim'\n",
    "}\n",
    "\n",
    "url = 'https://openapi.naver.com/v1/search/blog.json'\n",
    "\n",
    "\n",
    "# requests get(url, params, headers) 요청 \n",
    "\n",
    "# json() 함수로 응답 결과 가져오오기\n",
    "# 'title' , 'bloggername' , 'description' , 'bloggerlink' , 'link'\n",
    "\n",
    "# 'data/nhnblog.txt' 파일 생성하기\n"
   ]
  }
 ],
 "metadata": {
  "kernelspec": {
   "display_name": "base",
   "language": "python",
   "name": "python3"
  },
  "language_info": {
   "codemirror_mode": {
    "name": "ipython",
    "version": 3
   },
   "file_extension": ".py",
   "mimetype": "text/x-python",
   "name": "python",
   "nbconvert_exporter": "python",
   "pygments_lexer": "ipython3",
   "version": "3.12.7"
  }
 },
 "nbformat": 4,
 "nbformat_minor": 5
}
