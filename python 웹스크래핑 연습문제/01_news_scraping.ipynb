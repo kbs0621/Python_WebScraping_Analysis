{
 "cells": [
  {
   "cell_type": "code",
   "execution_count": 3,
   "id": "34d8cfb0",
   "metadata": {},
   "outputs": [
    {
     "name": "stdout",
     "output_type": "stream",
     "text": [
      "https://news.daum.net/economy\n",
      "<class 'requests.models.Response'>\n",
      "200\n",
      "<class 'bs4.element.ResultSet'> 9\n",
      "3선 딱지 뗀 '보험맨' 하태경 \"암호화폐 융합보험 시대 곧 온다\" [월간중앙] 인물 포커스｜‘3선’ 딱지 뗀 ‘보험맨’, 하태경 보험연수원장은 AI ‘열공 중’ 보험사기 탐지, 사고 시 AI로 견적…보험 업무에 AI 활용 사례 늘어 9월 ‘크립토 스쿨’ 개강, 금융 체제 혁명 일으킬 암호화폐 시대 대비 한 지역구에서 내리 세 번 연임했던 관록의 정치인 하태경 전 국회의원이 보험연수원장에 취임한 건 작년 9월이었다. 10개월 중앙일보 39분 전\n",
      "https://v.daum.net/v/20250723150154993\n",
      "네일왕서 아파트왕으로...박화영 인코코 회장 “맨해튼서 예술같은 부동산개발” 매일경제 1시간 전\n",
      "https://v.daum.net/v/20250723142101850\n",
      "[대전 둔산지구의 미래를 그리다] 디지털·스마트 신도시 '풍골'에서 미래도시의 청사진을 보다 중도일보 2시간 전\n",
      "https://v.daum.net/v/20250723140906360\n",
      "\"미일 협상, 중요한 참고사례…FTA 고려시 日보단 더 얻어야\" 뉴스1 2시간 전\n",
      "https://v.daum.net/v/20250723135926840\n",
      "[충남창업人-톡](6)카데아, '3D 어라운드 뷰' 개발…美·유럽 시장 정조준 전자신문 3시간 전\n",
      "https://v.daum.net/v/20250723130459121\n",
      "동영상     [뉴스나우] 이틀 앞으로 다가온 한미 협상 시사점은? YTN 3시간 전\n",
      "https://v.daum.net/v/20250723125814945\n",
      "“대졸자, 일자리 밖에 서다”.. 비경제활동 300만 시대의 경고 JIBS 3시간 전\n",
      "https://v.daum.net/v/20250723122253422\n",
      "무료로 배송 받았던 카톡 선물 '유료' 옵션 생긴 이유는? YTN 3시간 전\n",
      "https://v.daum.net/v/20250723122213414\n",
      "혼인·출생아 수 청신호…예비부부 울리는 ‘스드메’ 데일리안 4시간 전\n",
      "https://v.daum.net/v/20250723120247911\n"
     ]
    }
   ],
   "source": [
    "import requests\n",
    "import bs4 \n",
    "from bs4 import BeautifulSoup\n",
    "\n",
    "section_dict = {\"기후/환경\" : \"climate\", \"사회\" : \"society\", \"경제\" : \"economy\", \"정치\" : \"politics\", \"국제\" : \"world\", \"문화\" : \"culture\"}\n",
    "\n",
    "url = \"https://news.daum.net/{경제}\".format(**section_dict)\n",
    "print(url)\n",
    "\n",
    "req_header = {\n",
    "    \"user-Agent\" : \"Mozilla/5.0 (Windows NT 10.0; Win64; x64) AppleWebKit/537.36 (KHTML, like Gecko) Chrome/138.0.0.0 Safari/537.36\"\n",
    "}\n",
    "\n",
    "res = requests.get(url, headers=req_header)\n",
    "res.encoding = 'utf-8'\n",
    "print(type(res))\n",
    "print(res.status_code)\n",
    "\n",
    "if res.ok:\n",
    "    html = res.text\n",
    "    soup = BeautifulSoup(html, 'html.parser')\n",
    "\n",
    "    n_tags = soup.select(\"a[href*='https://v.daum.net/v/'].item_newsheadline2\")\n",
    "    \n",
    "    print(type(n_tags),len(n_tags))\n",
    "\n",
    "    for n_tag in n_tags:\n",
    "        n_title = n_tag.text.strip()\n",
    "        n_link = n_tag['href']\n",
    "\n",
    "        print(f\"{n_title}\")\n",
    "        print(f\"{n_link}\")\n",
    "else:\n",
    "    print(f\"Error Code = {res.status_code}\")\n"
   ]
  }
 ],
 "metadata": {
  "kernelspec": {
   "display_name": "base",
   "language": "python",
   "name": "python3"
  },
  "language_info": {
   "codemirror_mode": {
    "name": "ipython",
    "version": 3
   },
   "file_extension": ".py",
   "mimetype": "text/x-python",
   "name": "python",
   "nbconvert_exporter": "python",
   "pygments_lexer": "ipython3",
   "version": "3.12.7"
  }
 },
 "nbformat": 4,
 "nbformat_minor": 5
}
