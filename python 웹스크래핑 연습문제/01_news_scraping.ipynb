{
 "cells": [
  {
   "cell_type": "code",
   "execution_count": 14,
   "id": "34d8cfb0",
   "metadata": {},
   "outputs": [
    {
     "name": "stdout",
     "output_type": "stream",
     "text": [
      "https://news.daum.net/economy\n",
      "<class 'requests.models.Response'>\n",
      "200\n",
      "<class 'bs4.element.ResultSet'> 9\n",
      "https://v.daum.net/v/20250722181057244\n",
      "꾸준히 강세 흐름 보이는 메이저 알트코인들 : 코리안 크립토 위클리 [INFCL 리서치] 1. 시장 개요 지난주에도 한국 거래소들은 신규 상장으로 활발한 활동을 이어갔습니다. 업비트는 칼데라(ERA)를 도입했고, 빗썸은 칼데라와 이클립스(ES)를 모두 상장하며 생태계 주도 프로젝트를 추가하는 추세를 이어가고 있습니다. 이러한 리스팅은 특히 알트코인 회전에 참여하는 사용자들로부터 중간 정도의 관심을 끌었습니다. 거래 활동 측면에서 보면, 두 거래 한국경제 12분 전\n",
      "https://v.daum.net/v/20250722175548581\n",
      "세계시장 제패한 K뷰티·푸드…'첨단' 아니라며 R&D지원은 쥐꼬리 한국경제 27분 전\n",
      "https://v.daum.net/v/20250722175106335\n",
      "백만이상 日도시 100년뒤 11개→4개 ‘뚝’...“韓 소멸속도 더 빨라” 매일경제 32분 전\n",
      "https://v.daum.net/v/20250722174746199\n",
      "동영상     예금자보호 1억 시대…내 돈 어디에 맡길까? 한국경제TV 35분 전\n",
      "https://v.daum.net/v/20250722174241984\n",
      "전재수 해수 후보자 조선업 '신경전'에 김정관 산업장관 '신중론' 더팩트 40분 전\n",
      "https://v.daum.net/v/20250722171546881\n",
      "식재료비 뛰고 사장님은 늙고…동네 백반집이 사라진다 중앙일보 1시간 전\n",
      "https://v.daum.net/v/20250722171502827\n",
      "“흑자 전환 노린다” 국내외 의료 AI, 실적 경쟁 치열 조선비즈 1시간 전\n",
      "https://v.daum.net/v/20250722164636610\n",
      "한국블록체인스타트업협회 조원희 회장 취임…산업 융합과 글로벌 진출의 ‘종합 허브’ 선언 아시아경제 2시간 전\n",
      "https://v.daum.net/v/20250722164503546\n",
      "범여권 '자사주 소각 의무화' 공세에…野 '포이즌필 제도화' 맞대응 중앙일보 2시간 전\n"
     ]
    }
   ],
   "source": [
    "import requests\n",
    "import bs4 \n",
    "from bs4 import BeautifulSoup\n",
    "\n",
    "section_dict = {\"기후/환경\" : \"climate\", \"사회\" : \"society\", \"경제\" : \"economy\", \"정치\" : \"politics\", \"국제\" : \"world\", \"문화\" : \"culture\"}\n",
    "\n",
    "url = \"https://news.daum.net/{경제}\".format(**section_dict)\n",
    "print(url)\n",
    "\n",
    "req_header = {\n",
    "    \"user-Agent\" : \"Mozilla/5.0 (Windows NT 10.0; Win64; x64) AppleWebKit/537.36 (KHTML, like Gecko) Chrome/138.0.0.0 Safari/537.36\"\n",
    "}\n",
    "\n",
    "res = requests.get(url, headers=req_header)\n",
    "res.encoding = 'utf-8'\n",
    "print(type(res))\n",
    "print(res.status_code)\n",
    "\n",
    "if res.ok:\n",
    "    html = res.text\n",
    "    soup = BeautifulSoup(html, 'html.parser')\n",
    "\n",
    "    n_tags = soup.select(\"a[href*='https://v.daum.net/v/'].item_newsheadline2\")\n",
    "    print(type(n_tags),len(n_tags))\n",
    "\n",
    "    for n_tag in n_tags:\n",
    "        n_title = n_tag.text.strip()\n",
    "        n_link = n_tag['href']\n",
    "\n",
    "        print(f\"{n_link}\")\n",
    "        print(f\"{n_title}\")\n",
    "else:\n",
    "    print(f\"Error Code = {res.status_code}\")\n"
   ]
  }
 ],
 "metadata": {
  "kernelspec": {
   "display_name": "base",
   "language": "python",
   "name": "python3"
  },
  "language_info": {
   "codemirror_mode": {
    "name": "ipython",
    "version": 3
   },
   "file_extension": ".py",
   "mimetype": "text/x-python",
   "name": "python",
   "nbconvert_exporter": "python",
   "pygments_lexer": "ipython3",
   "version": "3.12.7"
  }
 },
 "nbformat": 4,
 "nbformat_minor": 5
}
