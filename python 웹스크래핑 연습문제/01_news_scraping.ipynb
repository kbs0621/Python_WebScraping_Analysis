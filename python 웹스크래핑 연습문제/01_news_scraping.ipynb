{
 "cells": [
  {
   "cell_type": "code",
   "execution_count": 1,
   "id": "34d8cfb0",
   "metadata": {},
   "outputs": [
    {
     "name": "stdout",
     "output_type": "stream",
     "text": [
      "https://news.daum.net/economy\n",
      "<class 'requests.models.Response'>\n",
      "200\n",
      "<class 'bs4.element.ResultSet'> 9\n",
      "[단독] LG·SK, 악연 털었다…5조 '배터리 동맹' 대반전 SK넥실리스가 LG에너지솔루션에 2차전지용 동박을 최대 5조원어치 납품한다. 단일 동박 납품 계약으로는 사상 최대다. LG그룹과 SK그룹 간 기술 유출 소송 여파로 배터리 소재 관련 신규 거래를 끊은 양측이 5년 만에 다시 뭉친 것이다. 24일 배터리업계에 따르면 국내 생산량 1위 동박업체 SK넥실리스가 국내 1위 배터리기업 LG에너지솔루션에 5~6년간 1 한국경제 6분 전\n",
      "https://v.daum.net/v/20250724175947467\n",
      "동영상     특화 신용평가 도입…\"소상공인 대출 문턱 낮춘다\" [뉴스+현장] 한국경제TV 14분 전\n",
      "https://v.daum.net/v/20250724175144101\n",
      "\"폭우, 관측기록 다 깨버려…기후위기에 따른 복합재난, 과할 정도로 대비해야\" 오마이뉴스 15분 전\n",
      "https://v.daum.net/v/20250724175100048\n",
      "“고향은 아니지만, 마음은 제주로 향했다”.. 서울 한복판서 터진 기부의 반전 JIBS 24분 전\n",
      "https://v.daum.net/v/20250724174122646\n",
      "'베선트 긴급일정' 탓이라지만…이상기류 감도는 한미 통상협의(종합) 연합뉴스 25분 전\n",
      "https://v.daum.net/v/20250724174047631\n",
      "경남 재개발 8곳·재건축 28곳…주택 공급 위주 벗어나야 경남도민일보 25분 전\n",
      "https://v.daum.net/v/20250724174036619\n",
      "[7/24(목) 데일리안 퇴근길뉴스] 출발부터 꼬인 미국 일정…부총리, 공항서 빈손 유턴 등 데일리안 33분 전\n",
      "https://v.daum.net/v/20250724173242291\n",
      "관세 불확실성·건설 부진 지속…올해 성장 낙관은 '아직'(종합) 이데일리 35분 전\n",
      "https://v.daum.net/v/20250724173016193\n",
      "[신간] <나는 오늘도 비트코인을 산다> 출간…\"하루라도 빨리, 오래 보유하라\" 한국경제TV 43분 전\n",
      "https://v.daum.net/v/20250724172244844\n"
     ]
    }
   ],
   "source": [
    "import requests\n",
    "import bs4 \n",
    "from bs4 import BeautifulSoup\n",
    "\n",
    "section_dict = {\"기후/환경\" : \"climate\", \"사회\" : \"society\", \"경제\" : \"economy\", \"정치\" : \"politics\", \"국제\" : \"world\", \"문화\" : \"culture\"}\n",
    "\n",
    "url = \"https://news.daum.net/{경제}\".format(**section_dict)\n",
    "print(url)\n",
    "\n",
    "req_header = {\n",
    "    \"user-Agent\" : \"Mozilla/5.0 (Windows NT 10.0; Win64; x64) AppleWebKit/537.36 (KHTML, like Gecko) Chrome/138.0.0.0 Safari/537.36\"\n",
    "}\n",
    "\n",
    "res = requests.get(url, headers=req_header)\n",
    "res.encoding = 'utf-8'\n",
    "print(type(res))\n",
    "print(res.status_code)\n",
    "\n",
    "if res.ok:\n",
    "    html = res.text\n",
    "    soup = BeautifulSoup(html, 'html.parser')\n",
    "\n",
    "    n_tags = soup.select(\"a[href*='https://v.daum.net/v/'].item_newsheadline2\")\n",
    "    \n",
    "    print(type(n_tags),len(n_tags))\n",
    "\n",
    "    for n_tag in n_tags:\n",
    "        n_title = n_tag.text.strip()\n",
    "        n_link = n_tag['href']\n",
    "\n",
    "        print(f\"{n_title}\")\n",
    "        print(f\"{n_link}\")\n",
    "else:\n",
    "    print(f\"Error Code = {res.status_code}\")\n"
   ]
  }
 ],
 "metadata": {
  "kernelspec": {
   "display_name": "base",
   "language": "python",
   "name": "python3"
  },
  "language_info": {
   "codemirror_mode": {
    "name": "ipython",
    "version": 3
   },
   "file_extension": ".py",
   "mimetype": "text/x-python",
   "name": "python",
   "nbconvert_exporter": "python",
   "pygments_lexer": "ipython3",
   "version": "3.12.7"
  }
 },
 "nbformat": 4,
 "nbformat_minor": 5
}
