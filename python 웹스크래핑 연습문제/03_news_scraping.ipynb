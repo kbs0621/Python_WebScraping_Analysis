{
 "cells": [
  {
   "cell_type": "code",
   "execution_count": 6,
   "id": "7f69c8e4",
   "metadata": {},
   "outputs": [
    {
     "name": "stdout",
     "output_type": "stream",
     "text": [
      "15\n",
      "print_news('최신뉴스')\n",
      "======> https://news.nate.com/section?mid=n0100 최신뉴스 뉴스 <======\n",
      "1 : 뉴스 제목 : \n",
      "\n",
      "\n",
      "\n",
      " \n",
      "'VIP 격노설' 처음 입 연 이종섭 부관…\"尹 통화 원한다는 전화받아\"\t\t\t\t\t이종섭 전 국방장관의 수행부관이 최근 특검 조사에서 'VIP 격노' 회의 당일 대통령 부속실로부터 '대통령이 장관과 통화를 원한다'는 전화를 받았다고 실토한 ...\t\t\t\t\n",
      "\n",
      "연합뉴스TV2025-07-25\n",
      " : 뉴스링크 : https://news.nate.com/view/20250725n03494?mid=n0200 \n",
      "이미지: https://thumbnews.nateimg.co.kr/news90///news.nateimg.co.kr/orgImg/ny/2025/07/25/AKR20250725074226125_01_i.jpg\n",
      "\n"
     ]
    },
    {
     "data": {
      "text/html": [
       "<img src=\"https://thumbnews.nateimg.co.kr/news90///news.nateimg.co.kr/orgImg/ny/2025/07/25/AKR20250725074226125_01_i.jpg\"/>"
      ],
      "text/plain": [
       "<IPython.core.display.Image object>"
      ]
     },
     "metadata": {},
     "output_type": "display_data"
    },
    {
     "name": "stdout",
     "output_type": "stream",
     "text": [
      "2 : 뉴스 제목 : \n",
      "\n",
      "\n",
      "\n",
      " \n",
      "한동훈 불출마, 안철수·오세훈 회동…요동치는 野 전대\t\t\t\t\t한동훈 전 국민의힘 대표. /뉴스1한동훈 전 국민의힘 대표가 24일 “당대표 선거에 출마하지 않는다”고 밝혔다. 8·22 전당대회 막판 변수로 거론되던 한 전 대...\t\t\t\t\n",
      "\n",
      "조선일보2025-07-25\n",
      " : 뉴스링크 : https://news.nate.com/view/20250725n00510?mid=n0200 \n",
      "이미지: https://thumbnews.nateimg.co.kr/news90///news.nateimg.co.kr/orgImg/ch/2025/07/25/ch_1753372865937_749642_0.jpg\n",
      "\n"
     ]
    },
    {
     "data": {
      "text/html": [
       "<img src=\"https://thumbnews.nateimg.co.kr/news90///news.nateimg.co.kr/orgImg/ch/2025/07/25/ch_1753372865937_749642_0.jpg\"/>"
      ],
      "text/plain": [
       "<IPython.core.display.Image object>"
      ]
     },
     "metadata": {},
     "output_type": "display_data"
    },
    {
     "name": "stdout",
     "output_type": "stream",
     "text": [
      "3 : 뉴스 제목 : \n",
      "\n",
      "\n",
      "\n",
      " \n",
      "李대통령, 이재용과 만찬…'대미 선물보따리' 협조 구한 듯\t\t\t\t\t이재명 대통령이 더불어민주당 대표 시절인 지난 3월 이재용 삼성전자 회장과 서울 강남구 삼성 청년 소프트웨어 아카데미(SSAFY)에서 환담에 앞서 기념촬영을 ...\t\t\t\t\n",
      "\n",
      "조선일보2025-07-25\n",
      " : 뉴스링크 : https://news.nate.com/view/20250725n00465?mid=n0200 \n",
      "이미지: https://thumbnews.nateimg.co.kr/news90///news.nateimg.co.kr/orgImg/ch/2025/07/25/ch_1753388224390_124694_0.jpg\n",
      "\n"
     ]
    },
    {
     "data": {
      "text/html": [
       "<img src=\"https://thumbnews.nateimg.co.kr/news90///news.nateimg.co.kr/orgImg/ch/2025/07/25/ch_1753388224390_124694_0.jpg\"/>"
      ],
      "text/plain": [
       "<IPython.core.display.Image object>"
      ]
     },
     "metadata": {},
     "output_type": "display_data"
    },
    {
     "name": "stdout",
     "output_type": "stream",
     "text": [
      "15\n",
      "print_news('정치')\n",
      "======> https://news.nate.com/section?mid=n0200 정치 뉴스 <======\n",
      "1 : 뉴스 제목 : \n",
      "\n",
      "\n",
      "\n",
      " \n",
      "'VIP 격노설' 처음 입 연 이종섭 부관…\"尹 통화 원한다는 전화받아\"\t\t\t\t\t이종섭 전 국방장관의 수행부관이 최근 특검 조사에서 'VIP 격노' 회의 당일 대통령 부속실로부터 '대통령이 장관과 통화를 원한다'는 전화를 받았다고 실토한 ...\t\t\t\t\n",
      "\n",
      "연합뉴스TV2025-07-25\n",
      " : 뉴스링크 : https://news.nate.com/view/20250725n03494?mid=n0200 \n",
      "이미지: https://thumbnews.nateimg.co.kr/news90///news.nateimg.co.kr/orgImg/ny/2025/07/25/AKR20250725074226125_01_i.jpg\n",
      "\n"
     ]
    },
    {
     "data": {
      "text/html": [
       "<img src=\"https://thumbnews.nateimg.co.kr/news90///news.nateimg.co.kr/orgImg/ny/2025/07/25/AKR20250725074226125_01_i.jpg\"/>"
      ],
      "text/plain": [
       "<IPython.core.display.Image object>"
      ]
     },
     "metadata": {},
     "output_type": "display_data"
    },
    {
     "name": "stdout",
     "output_type": "stream",
     "text": [
      "2 : 뉴스 제목 : \n",
      "\n",
      "\n",
      "\n",
      " \n",
      "한동훈 불출마, 안철수·오세훈 회동…요동치는 野 전대\t\t\t\t\t한동훈 전 국민의힘 대표. /뉴스1한동훈 전 국민의힘 대표가 24일 “당대표 선거에 출마하지 않는다”고 밝혔다. 8·22 전당대회 막판 변수로 거론되던 한 전 대...\t\t\t\t\n",
      "\n",
      "조선일보2025-07-25\n",
      " : 뉴스링크 : https://news.nate.com/view/20250725n00510?mid=n0200 \n",
      "이미지: https://thumbnews.nateimg.co.kr/news90///news.nateimg.co.kr/orgImg/ch/2025/07/25/ch_1753372865937_749642_0.jpg\n",
      "\n"
     ]
    },
    {
     "data": {
      "text/html": [
       "<img src=\"https://thumbnews.nateimg.co.kr/news90///news.nateimg.co.kr/orgImg/ch/2025/07/25/ch_1753372865937_749642_0.jpg\"/>"
      ],
      "text/plain": [
       "<IPython.core.display.Image object>"
      ]
     },
     "metadata": {},
     "output_type": "display_data"
    },
    {
     "name": "stdout",
     "output_type": "stream",
     "text": [
      "3 : 뉴스 제목 : \n",
      "\n",
      "\n",
      "\n",
      " \n",
      "李대통령, 이재용과 만찬…'대미 선물보따리' 협조 구한 듯\t\t\t\t\t이재명 대통령이 더불어민주당 대표 시절인 지난 3월 이재용 삼성전자 회장과 서울 강남구 삼성 청년 소프트웨어 아카데미(SSAFY)에서 환담에 앞서 기념촬영을 ...\t\t\t\t\n",
      "\n",
      "조선일보2025-07-25\n",
      " : 뉴스링크 : https://news.nate.com/view/20250725n00465?mid=n0200 \n",
      "이미지: https://thumbnews.nateimg.co.kr/news90///news.nateimg.co.kr/orgImg/ch/2025/07/25/ch_1753388224390_124694_0.jpg\n",
      "\n"
     ]
    },
    {
     "data": {
      "text/html": [
       "<img src=\"https://thumbnews.nateimg.co.kr/news90///news.nateimg.co.kr/orgImg/ch/2025/07/25/ch_1753388224390_124694_0.jpg\"/>"
      ],
      "text/plain": [
       "<IPython.core.display.Image object>"
      ]
     },
     "metadata": {},
     "output_type": "display_data"
    },
    {
     "name": "stdout",
     "output_type": "stream",
     "text": [
      "15\n",
      "print_news('경제')\n",
      "======> https://news.nate.com/section?mid=n0300 경제 뉴스 <======\n",
      "1 : 뉴스 제목 : \n",
      "\n",
      "\n",
      "\n",
      " \n",
      "한·미 산업장관 80분 무역협상…김정관, 美고위급 연쇄 접촉\t\t\t\t\t김정관 산업통상자원부 장관이 대미 통상 협상과 관련, 지난 23일 인천국제공항을 통해 미국 워싱턴으로 출국하고 있다. 연합뉴스 도널드 트럼프 미국 대통령의 ...\t\t\t\t\n",
      "\n",
      "중앙일보2025-07-25\n",
      " : 뉴스링크 : https://news.nate.com/view/20250725n04036?mid=n0300 \n",
      "이미지: https://thumbnews.nateimg.co.kr/news90///news.nateimg.co.kr/orgImg/jo/2025/07/25/79e098ca-41ea-482d-8fa4-dd5a4ea09143.jpg\n",
      "\n"
     ]
    },
    {
     "data": {
      "text/html": [
       "<img src=\"https://thumbnews.nateimg.co.kr/news90///news.nateimg.co.kr/orgImg/jo/2025/07/25/79e098ca-41ea-482d-8fa4-dd5a4ea09143.jpg\"/>"
      ],
      "text/plain": [
       "<IPython.core.display.Image object>"
      ]
     },
     "metadata": {},
     "output_type": "display_data"
    },
    {
     "name": "stdout",
     "output_type": "stream",
     "text": [
      "2 : 뉴스 제목 : \n",
      "\n",
      "\n",
      "\n",
      " \n",
      "건보 '무임승차' 8년새 2007만명→1576만명 급감한 이유\t\t\t\t\t국민건강보험공단 서울 마포지사. 전경. 뉴스1 부동산 가격 상승, 연금 증가 등의 여파로 건강보험 피부양자가 빠르게 줄고 있다. 피부양자는 건보 직장가입자에...\t\t\t\t\n",
      "\n",
      "중앙일보2025-07-25\n",
      " : 뉴스링크 : https://news.nate.com/view/20250725n01238?mid=n0300 \n",
      "이미지: https://thumbnews.nateimg.co.kr/news90///news.nateimg.co.kr/orgImg/jo/2025/07/25/2ce4b645-d150-4b87-9e97-1262594bb1d2.jpg\n",
      "\n"
     ]
    },
    {
     "data": {
      "text/html": [
       "<img src=\"https://thumbnews.nateimg.co.kr/news90///news.nateimg.co.kr/orgImg/jo/2025/07/25/2ce4b645-d150-4b87-9e97-1262594bb1d2.jpg\"/>"
      ],
      "text/plain": [
       "<IPython.core.display.Image object>"
      ]
     },
     "metadata": {},
     "output_type": "display_data"
    },
    {
     "name": "stdout",
     "output_type": "stream",
     "text": [
      "3 : 뉴스 제목 : \n",
      "\n",
      "\n",
      "\n",
      " \n",
      "\"'칼졸업' 큰일\", \"첫 월급 300만원도 안돼\" 대학생들 '울상'\t\t\t\t\t[세종=이데일리 강신우 기자] 청년들의 대학 졸업까지 걸린 기간이 평균 4.4년(약 4년 4개월)인 것으로 나타났다. 관련 통계를 작성한 2006년 이후 역대 최장이...\t\t\t\t\n",
      "\n",
      "이데일리2025-07-24\n",
      " : 뉴스링크 : https://news.nate.com/view/20250724n18415?mid=n0300 \n",
      "이미지: https://thumbnews.nateimg.co.kr/news90///news.nateimg.co.kr/orgImg/ed/2025/07/24/PS25072400897.jpg\n",
      "\n"
     ]
    },
    {
     "data": {
      "text/html": [
       "<img src=\"https://thumbnews.nateimg.co.kr/news90///news.nateimg.co.kr/orgImg/ed/2025/07/24/PS25072400897.jpg\"/>"
      ],
      "text/plain": [
       "<IPython.core.display.Image object>"
      ]
     },
     "metadata": {},
     "output_type": "display_data"
    },
    {
     "name": "stdout",
     "output_type": "stream",
     "text": [
      "15\n",
      "print_news('사회')\n",
      "======> https://news.nate.com/section?mid=n0400 사회 뉴스 <======\n",
      "1 : 뉴스 제목 : \n",
      "\n",
      "\n",
      "\n",
      " \n",
      "이중 고기압에 들끓는 한반도…서울·대전 한낮 37도까지 올라\t\t\t\t\t북태평양·티베트 고기압에 덮여 햇볕 세고 고온다습한 남동풍 유입 (서울=연합뉴스) 이재영 기자 = 25일 낮 기온이 높게는 37도까지 치솟는 등 매우 무덥겠다. ...\t\t\t\t\n",
      "\n",
      "연합뉴스2025-07-25\n",
      " : 뉴스링크 : https://news.nate.com/view/20250725n05641?mid=n0400 \n",
      "이미지: https://thumbnews.nateimg.co.kr/news90///news.nateimg.co.kr/orgImg/yt/2025/07/25/PYH2025072414870005300_P2.jpg\n",
      "\n"
     ]
    },
    {
     "data": {
      "text/html": [
       "<img src=\"https://thumbnews.nateimg.co.kr/news90///news.nateimg.co.kr/orgImg/yt/2025/07/25/PYH2025072414870005300_P2.jpg\"/>"
      ],
      "text/plain": [
       "<IPython.core.display.Image object>"
      ]
     },
     "metadata": {},
     "output_type": "display_data"
    },
    {
     "name": "stdout",
     "output_type": "stream",
     "text": [
      "2 : 뉴스 제목 : \n",
      "\n",
      "\n",
      "\n",
      " \n",
      "[단독] \"비즈니스 모두 태우려 비행기 두대 나눠 예약\"…혈세외유 추적\t\t\t\t\t[앵커]지금부터는 JTBC의 단독 보도 전해드리겠습니다. 56곳 공공기관 상임감사 등 120여 명이 지난주 캐나다로 출장을 갔습니다. 그런데 저희가 입수한 비공개 ...\t\t\t\t\n",
      "\n",
      "JTBC2025-07-24\n",
      " : 뉴스링크 : https://news.nate.com/view/20250724n41348?mid=n0400 \n",
      "이미지: https://thumbnews.nateimg.co.kr/news90///news.nateimg.co.kr/orgImg/jt/2025/07/24/20250724204413024001.jpg\n",
      "\n"
     ]
    },
    {
     "data": {
      "text/html": [
       "<img src=\"https://thumbnews.nateimg.co.kr/news90///news.nateimg.co.kr/orgImg/jt/2025/07/24/20250724204413024001.jpg\"/>"
      ],
      "text/plain": [
       "<IPython.core.display.Image object>"
      ]
     },
     "metadata": {},
     "output_type": "display_data"
    },
    {
     "name": "stdout",
     "output_type": "stream",
     "text": [
      "3 : 뉴스 제목 : \n",
      "\n",
      "\n",
      "\n",
      " \n",
      "[단독] 건진법사, 통일교 키맨에 \"MBC 없애려 해…공포정치 피바람도 좋아\"\t\t\t\t\t[민중기 특검, 통일교 키맨 15시간 고강도 조사]\"강하게 밀어붙이라 했다…좌파 방송 다스려야\"두번째 샤넬백 전한 뒤 \"방송국 인수 의사\" 언급건진법사 \"YTN 인...\t\t\t\t\n",
      "\n",
      "한국일보2025-07-25\n",
      " : 뉴스링크 : https://news.nate.com/view/20250725n01067?mid=n0400 \n",
      "이미지: https://thumbnews.nateimg.co.kr/news90///news.nateimg.co.kr/orgImg/hi/2025/07/25/bc1e2f52-5f83-464c-8afc-ddbfbf23669a.jpg\n",
      "\n"
     ]
    },
    {
     "data": {
      "text/html": [
       "<img src=\"https://thumbnews.nateimg.co.kr/news90///news.nateimg.co.kr/orgImg/hi/2025/07/25/bc1e2f52-5f83-464c-8afc-ddbfbf23669a.jpg\"/>"
      ],
      "text/plain": [
       "<IPython.core.display.Image object>"
      ]
     },
     "metadata": {},
     "output_type": "display_data"
    },
    {
     "name": "stdout",
     "output_type": "stream",
     "text": [
      "10\n",
      "print_news('세계')\n",
      "======> https://news.nate.com/section?mid=n0500 세계 뉴스 <======\n",
      "1 : 뉴스 제목 : \n",
      "\n",
      "\n",
      "\n",
      " \n",
      "\"발리 여행시 주의\"…'치사율 100%' 병 확산, 관광지 적색구역 지정\t\t\t\t\t인도네시아 발리섬 아궁산. /연합뉴스한국인 관광객이 휴가철이나 신혼여행 때 많이 찾는 인도네시아 발리의 주요 관광지가 ‘적색구역’으로 지정됐다. 치사율...\t\t\t\t\n",
      "\n",
      "조선일보2025-07-25\n",
      " : 뉴스링크 : https://news.nate.com/view/20250725n03074?mid=n0500 \n",
      "이미지: https://thumbnews.nateimg.co.kr/news90///news.nateimg.co.kr/orgImg/ch/2025/07/25/ch_1753396685152_188773_0.jpg\n",
      "\n"
     ]
    },
    {
     "data": {
      "text/html": [
       "<img src=\"https://thumbnews.nateimg.co.kr/news90///news.nateimg.co.kr/orgImg/ch/2025/07/25/ch_1753396685152_188773_0.jpg\"/>"
      ],
      "text/plain": [
       "<IPython.core.display.Image object>"
      ]
     },
     "metadata": {},
     "output_type": "display_data"
    },
    {
     "name": "stdout",
     "output_type": "stream",
     "text": [
      "2 : 뉴스 제목 : \n",
      "\n",
      "\n",
      "\n",
      " \n",
      "트럼프 \"다른 나라도 일본처럼 돈 내고 관세 낮출 수 있다\"\t\t\t\t\t\"對美투자 5천500억달러는 '先지급 계약금'…日 시장개방이 더 가치\" (워싱턴=연합뉴스) 홍정규 김동현 특파원 = 도널드 트럼프 미국 대통령은 다른 나라도 일본...\t\t\t\t\n",
      "\n",
      "연합뉴스2025-07-25\n",
      " : 뉴스링크 : https://news.nate.com/view/20250725n02542?mid=n0500 \n",
      "이미지: https://thumbnews.nateimg.co.kr/news90///news.nateimg.co.kr/orgImg/yt/2025/07/25/PRU20250725095901009_P2.jpg\n",
      "\n"
     ]
    },
    {
     "data": {
      "text/html": [
       "<img src=\"https://thumbnews.nateimg.co.kr/news90///news.nateimg.co.kr/orgImg/yt/2025/07/25/PRU20250725095901009_P2.jpg\"/>"
      ],
      "text/plain": [
       "<IPython.core.display.Image object>"
      ]
     },
     "metadata": {},
     "output_type": "display_data"
    },
    {
     "name": "stdout",
     "output_type": "stream",
     "text": [
      "3 : 뉴스 제목 : \n",
      "\n",
      "\n",
      "\n",
      " \n",
      "(영상) 제5의 전쟁 엄습, 캄보디아 '로켓포' 태국 '전투기' 충돌…민간인 줄사망 [포착]\t\t\t\t\t[서울신문]러시아-우크라이나, 이스라엘-팔레스타인, 이스라엘-이란, 인도-파키스탄 전쟁에 이어 이번엔 태국과 캄보디아 간 교전이 벌어졌다. 양측 무력 충돌이...\t\t\t\t\n",
      "\n",
      "서울신문2025-07-25\n",
      " : 뉴스링크 : https://news.nate.com/view/20250725n02174?mid=n0500 \n",
      "이미지: https://thumbnews.nateimg.co.kr/news90///news.nateimg.co.kr/orgImg/no/2025/07/25/SSC_20250725024145_V.jpg\n",
      "\n"
     ]
    },
    {
     "data": {
      "text/html": [
       "<img src=\"https://thumbnews.nateimg.co.kr/news90///news.nateimg.co.kr/orgImg/no/2025/07/25/SSC_20250725024145_V.jpg\"/>"
      ],
      "text/plain": [
       "<IPython.core.display.Image object>"
      ]
     },
     "metadata": {},
     "output_type": "display_data"
    },
    {
     "name": "stdout",
     "output_type": "stream",
     "text": [
      "5\n",
      "print_news('IT/과학')\n",
      "======> https://news.nate.com/section?mid=n0600 IT/과학 뉴스 <======\n",
      "1 : 뉴스 제목 : \n",
      "\n",
      "\n",
      "\n",
      " \n",
      "스페이스X 위성인터넷 스타링크 접속장애…머스크 \"곧 해결할것\"\t\t\t\t\t(로스앤젤레스=연합뉴스) 임미나 특파원 = 일론 머스크 테슬라 최고경영자(CEO)가 이끄는 우주기업 스페이스X의 위성 인터넷 '스타링크' 서비스에서 24일(현지시...\t\t\t\t\n",
      "\n",
      "연합뉴스2025-07-25\n",
      " : 뉴스링크 : https://news.nate.com/view/20250725n02383?mid=n0600 \n",
      "이미지: https://thumbnews.nateimg.co.kr/news90///news.nateimg.co.kr/orgImg/yt/2025/07/25/PRU20250717036101009_P2.jpg\n",
      "\n"
     ]
    },
    {
     "data": {
      "text/html": [
       "<img src=\"https://thumbnews.nateimg.co.kr/news90///news.nateimg.co.kr/orgImg/yt/2025/07/25/PRU20250717036101009_P2.jpg\"/>"
      ],
      "text/plain": [
       "<IPython.core.display.Image object>"
      ]
     },
     "metadata": {},
     "output_type": "display_data"
    },
    {
     "name": "stdout",
     "output_type": "stream",
     "text": [
      "2 : 뉴스 제목 : \n",
      "\n",
      "\n",
      "\n",
      " \n",
      "'멀티모달'의 엔씨·'게임 특화' 크래프톤…국대 AI 선발전 출사표\t\t\t\t\t'독자 AI 사업' 나서는 엔씨소프트와 크래프톤/그래픽=윤선정엔씨소프트(이하 엔씨)와 크래프톤, 두 게임사가 국가대표 AI(인공지능) 선발전에 출사표를 던졌다....\t\t\t\t\n",
      "\n",
      "머니투데이2025-07-25\n",
      " : 뉴스링크 : https://news.nate.com/view/20250725n02294?mid=n0600 \n",
      "이미지: https://thumbnews.nateimg.co.kr/news90///news.nateimg.co.kr/orgImg/mt/2025/07/25/2025072415105068746_1.jpg\n",
      "\n"
     ]
    },
    {
     "data": {
      "text/html": [
       "<img src=\"https://thumbnews.nateimg.co.kr/news90///news.nateimg.co.kr/orgImg/mt/2025/07/25/2025072415105068746_1.jpg\"/>"
      ],
      "text/plain": [
       "<IPython.core.display.Image object>"
      ]
     },
     "metadata": {},
     "output_type": "display_data"
    },
    {
     "name": "stdout",
     "output_type": "stream",
     "text": [
      "3 : 뉴스 제목 : \n",
      "\n",
      "\n",
      "\n",
      " \n",
      "\"삼성폰보다 더 얇다더니\"…中폴더블폰, 낯 '두꺼운' 거짓말 들통\t\t\t\t\t주요 브랜드 폴더블폰 두께 비교/그래픽=김지영 글로벌 폴더블폰(접히는 폰) 시장의 얇기 경쟁이 치열한 가운데 중국 휴대폰 제조사가 두께를 허위광고했다는 분...\t\t\t\t\n",
      "\n",
      "머니투데이2025-07-25\n",
      " : 뉴스링크 : https://news.nate.com/view/20250725n01167?mid=n0600 \n",
      "이미지: https://thumbnews.nateimg.co.kr/news90///news.nateimg.co.kr/orgImg/mt/2025/07/25/2025072418260644280_1.jpg\n",
      "\n"
     ]
    },
    {
     "data": {
      "text/html": [
       "<img src=\"https://thumbnews.nateimg.co.kr/news90///news.nateimg.co.kr/orgImg/mt/2025/07/25/2025072418260644280_1.jpg\"/>"
      ],
      "text/plain": [
       "<IPython.core.display.Image object>"
      ]
     },
     "metadata": {},
     "output_type": "display_data"
    }
   ],
   "source": [
    "import requests\n",
    "from bs4 import BeautifulSoup\n",
    "from urllib.parse import urljoin\n",
    "from IPython.display import Image, display\n",
    "\n",
    "nate_dict = {\"최신뉴스\" : \"n0100\", \"정치\" : \"n0200\" , \"경제\" : \"n0300\", \"사회\" : \"n0400\", \"세계\" : \"n0500\", \"IT/과학\" : \"n0600\"} \n",
    "\n",
    "\n",
    "def print_news(section_name):\n",
    "    sid = nate_dict[section_name]\n",
    "    url = f'https://news.nate.com/section?mid={sid}'\n",
    "\n",
    "    req_header = {\n",
    "    \"user-agent\" : \"Mozilla/5.0 (Windows NT 10.0; Win64; x64) AppleWebKit/537.36 (KHTML, like Gecko) Chrome/138.0.0.0 Safari/537.36\"\n",
    "    }\n",
    "    \n",
    "    res = requests.get(url, headers=req_header)\n",
    "    res.encoding = res.apparent_encoding\n",
    "\n",
    "    if res.ok:\n",
    "        html = res.text\n",
    "        # BeautifulSoup 객체 생성\n",
    "        soup = BeautifulSoup(html,\"html.parser\")\n",
    "\n",
    "        li_n_tags = soup.select('div.mlt01')  \n",
    "        print(len(li_n_tags))\n",
    "\n",
    "        print(f\"print_news('{section_name}')\")\n",
    "        print(f\"======> {url} {section_name} 뉴스 <======\")\n",
    "        for idx, li_tag in enumerate(li_n_tags[:3], 1):\n",
    "            a_tag = li_tag.find('a')\n",
    "            link = urljoin(url,a_tag['href'])\n",
    "            title = li_tag.text\n",
    "            img_tag = li_tag.select_one('span.ib img')\n",
    "            if img_tag and 'src' in img_tag.attrs:\n",
    "                img_src = urljoin(url, img_tag['src'])\n",
    "                print(f'{idx} : 뉴스 제목 : {title} : 뉴스링크 : {link} \\n이미지: {img_src}\\n')\n",
    "                display(Image(url=img_src))  # 노트북 환경에서만\n",
    "            else:\n",
    "                print(f'{title} : {link} \\n(이미지 없음)\\n')\n",
    "\n",
    "    else:\n",
    "         print(f\"Error Code = {res.status_code}\")\n",
    "\n",
    "\n",
    "print_news(\"최신뉴스\")\n",
    "print_news(\"정치\")\n",
    "print_news(\"경제\")\n",
    "print_news(\"사회\")\n",
    "print_news(\"세계\")\n",
    "print_news(\"IT/과학\")"
   ]
  }
 ],
 "metadata": {
  "kernelspec": {
   "display_name": "base",
   "language": "python",
   "name": "python3"
  },
  "language_info": {
   "codemirror_mode": {
    "name": "ipython",
    "version": 3
   },
   "file_extension": ".py",
   "mimetype": "text/x-python",
   "name": "python",
   "nbconvert_exporter": "python",
   "pygments_lexer": "ipython3",
   "version": "3.12.7"
  }
 },
 "nbformat": 4,
 "nbformat_minor": 5
}
