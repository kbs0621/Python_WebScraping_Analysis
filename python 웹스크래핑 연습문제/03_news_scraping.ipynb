{
 "cells": [
  {
   "cell_type": "code",
   "execution_count": 52,
   "id": "7f69c8e4",
   "metadata": {},
   "outputs": [
    {
     "name": "stdout",
     "output_type": "stream",
     "text": [
      "print_news('최신뉴스')\n",
      "======> https://news.nate.com/section?mid=n0100 최신뉴스 뉴스 <======\n",
      "1 : 뉴스 제목 : \n",
      "\n",
      "\n",
      "\n",
      " \n",
      "홍준표, 한동훈 향해 직격···\"날 더우니 별의별 X이 설쳐, 우리나라엔 극우 없다\"\t\t\t\t\t사진=연합뉴스[서울경제] 홍준표 전 대구시장이 한동훈 전 국민의힘 대표를 겨냥해 \"있지도 않은 극우 허상과 싸우겠다는 것\"이라며 거세게 몰아세웠다. 24일 홍...\t\t\t\t\n",
      "\n",
      "서울경제2025-07-24\n",
      " : 뉴스링크 : https://news.nate.com/view/20250724n39855?mid=n0200 \n",
      "이미지: https://thumbnews.nateimg.co.kr/news90///news.nateimg.co.kr/orgImg/se/2025/07/24/2GVH4GPWXU_2.jpg\n",
      "\n"
     ]
    },
    {
     "data": {
      "text/html": [
       "<img src=\"https://thumbnews.nateimg.co.kr/news90///news.nateimg.co.kr/orgImg/se/2025/07/24/2GVH4GPWXU_2.jpg\"/>"
      ],
      "text/plain": [
       "<IPython.core.display.Image object>"
      ]
     },
     "metadata": {},
     "output_type": "display_data"
    },
    {
     "name": "stdout",
     "output_type": "stream",
     "text": [
      "2 : 뉴스 제목 : \n",
      "\n",
      "\n",
      "\n",
      " \n",
      "[단독] 한국 수송기 일본 영공 진입 시도에…전투기 출격 일촉즉발\t\t\t\t\t\n",
      "\n",
      "우리 공군 수송기가 지난 13일, 일본 오키나와 영공 쪽으로 무단 진입해 일본 자위대 전투기가 출격하고 비상 대응하는 일이 있었습니다.\n",
      "\n",
      "일...\t\t\t\t\n",
      "\n",
      "SBS2025-07-24\n",
      " : 뉴스링크 : https://news.nate.com/view/20250724n41135?mid=n0200 \n",
      "이미지: https://thumbnews.nateimg.co.kr/news90///news.nateimg.co.kr/orgImg/sv/2025/07/24/202094703_700.jpg\n",
      "\n"
     ]
    },
    {
     "data": {
      "text/html": [
       "<img src=\"https://thumbnews.nateimg.co.kr/news90///news.nateimg.co.kr/orgImg/sv/2025/07/24/202094703_700.jpg\"/>"
      ],
      "text/plain": [
       "<IPython.core.display.Image object>"
      ]
     },
     "metadata": {},
     "output_type": "display_data"
    },
    {
     "name": "stdout",
     "output_type": "stream",
     "text": [
      "3 : 뉴스 제목 : \n",
      "\n",
      "\n",
      "\n",
      " \n",
      "[단독] '총 보여라' 윤 지시에…이광우 \"언론에 잘 보이게 가운데로 걸어라\"\t\t\t\t\t2차 체포영장 집행을 앞두고 ‘경찰에 총을 보여줘 겁을 주라’는 윤석열 전 대통령의 지시를 받은 이광우 전 대통령경호처 경호본부장이 총기를 지참한 ‘위력 ...\t\t\t\t\n",
      "\n",
      "한겨레2025-07-25\n",
      " : 뉴스링크 : https://news.nate.com/view/20250724n38473?mid=n0200 \n",
      "이미지: https://thumbnews.nateimg.co.kr/news90///news.nateimg.co.kr/orgImg/hn/2025/07/24/20250724504074.jpg\n",
      "\n"
     ]
    },
    {
     "data": {
      "text/html": [
       "<img src=\"https://thumbnews.nateimg.co.kr/news90///news.nateimg.co.kr/orgImg/hn/2025/07/24/20250724504074.jpg\"/>"
      ],
      "text/plain": [
       "<IPython.core.display.Image object>"
      ]
     },
     "metadata": {},
     "output_type": "display_data"
    },
    {
     "name": "stdout",
     "output_type": "stream",
     "text": [
      "print_news('정치')\n",
      "======> https://news.nate.com/section?mid=n0200 정치 뉴스 <======\n",
      "1 : 뉴스 제목 : \n",
      "\n",
      "\n",
      "\n",
      " \n",
      "홍준표, 한동훈 향해 직격···\"날 더우니 별의별 X이 설쳐, 우리나라엔 극우 없다\"\t\t\t\t\t사진=연합뉴스[서울경제] 홍준표 전 대구시장이 한동훈 전 국민의힘 대표를 겨냥해 \"있지도 않은 극우 허상과 싸우겠다는 것\"이라며 거세게 몰아세웠다. 24일 홍...\t\t\t\t\n",
      "\n",
      "서울경제2025-07-24\n",
      " : 뉴스링크 : https://news.nate.com/view/20250724n39855?mid=n0200 \n",
      "이미지: https://thumbnews.nateimg.co.kr/news90///news.nateimg.co.kr/orgImg/se/2025/07/24/2GVH4GPWXU_2.jpg\n",
      "\n"
     ]
    },
    {
     "data": {
      "text/html": [
       "<img src=\"https://thumbnews.nateimg.co.kr/news90///news.nateimg.co.kr/orgImg/se/2025/07/24/2GVH4GPWXU_2.jpg\"/>"
      ],
      "text/plain": [
       "<IPython.core.display.Image object>"
      ]
     },
     "metadata": {},
     "output_type": "display_data"
    },
    {
     "name": "stdout",
     "output_type": "stream",
     "text": [
      "2 : 뉴스 제목 : \n",
      "\n",
      "\n",
      "\n",
      " \n",
      "[단독] 한국 수송기 일본 영공 진입 시도에…전투기 출격 일촉즉발\t\t\t\t\t\n",
      "\n",
      "우리 공군 수송기가 지난 13일, 일본 오키나와 영공 쪽으로 무단 진입해 일본 자위대 전투기가 출격하고 비상 대응하는 일이 있었습니다.\n",
      "\n",
      "일...\t\t\t\t\n",
      "\n",
      "SBS2025-07-24\n",
      " : 뉴스링크 : https://news.nate.com/view/20250724n41135?mid=n0200 \n",
      "이미지: https://thumbnews.nateimg.co.kr/news90///news.nateimg.co.kr/orgImg/sv/2025/07/24/202094703_700.jpg\n",
      "\n"
     ]
    },
    {
     "data": {
      "text/html": [
       "<img src=\"https://thumbnews.nateimg.co.kr/news90///news.nateimg.co.kr/orgImg/sv/2025/07/24/202094703_700.jpg\"/>"
      ],
      "text/plain": [
       "<IPython.core.display.Image object>"
      ]
     },
     "metadata": {},
     "output_type": "display_data"
    },
    {
     "name": "stdout",
     "output_type": "stream",
     "text": [
      "3 : 뉴스 제목 : \n",
      "\n",
      "\n",
      "\n",
      " \n",
      "[단독] '총 보여라' 윤 지시에…이광우 \"언론에 잘 보이게 가운데로 걸어라\"\t\t\t\t\t2차 체포영장 집행을 앞두고 ‘경찰에 총을 보여줘 겁을 주라’는 윤석열 전 대통령의 지시를 받은 이광우 전 대통령경호처 경호본부장이 총기를 지참한 ‘위력 ...\t\t\t\t\n",
      "\n",
      "한겨레2025-07-25\n",
      " : 뉴스링크 : https://news.nate.com/view/20250724n38473?mid=n0200 \n",
      "이미지: https://thumbnews.nateimg.co.kr/news90///news.nateimg.co.kr/orgImg/hn/2025/07/24/20250724504074.jpg\n",
      "\n"
     ]
    },
    {
     "data": {
      "text/html": [
       "<img src=\"https://thumbnews.nateimg.co.kr/news90///news.nateimg.co.kr/orgImg/hn/2025/07/24/20250724504074.jpg\"/>"
      ],
      "text/plain": [
       "<IPython.core.display.Image object>"
      ]
     },
     "metadata": {},
     "output_type": "display_data"
    },
    {
     "name": "stdout",
     "output_type": "stream",
     "text": [
      "print_news('경제')\n",
      "======> https://news.nate.com/section?mid=n0300 경제 뉴스 <======\n",
      "1 : 뉴스 제목 : \n",
      "\n",
      "\n",
      "\n",
      " \n",
      "2+2회의 무산됐지만…한미, 산업장관간 무역협상 예정대로 진행\t\t\t\t\t美상무장관 \"오늘 한국과 협상\"…산업장관·통상본부장과 회담 예정 (워싱턴=연합뉴스) 김동현 특파원 = 한국 정부는 24일(현지시간) 미국과의 경제·무역 분야 ...\t\t\t\t\n",
      "\n",
      "연합뉴스2025-07-24\n",
      " : 뉴스링크 : https://news.nate.com/view/20250724n42344?mid=n0300 \n",
      "이미지: https://thumbnews.nateimg.co.kr/news90///news.nateimg.co.kr/orgImg/yt/2025/07/24/PAP20250716082701009_P2.jpg\n",
      "\n"
     ]
    },
    {
     "data": {
      "text/html": [
       "<img src=\"https://thumbnews.nateimg.co.kr/news90///news.nateimg.co.kr/orgImg/yt/2025/07/24/PAP20250716082701009_P2.jpg\"/>"
      ],
      "text/plain": [
       "<IPython.core.display.Image object>"
      ]
     },
     "metadata": {},
     "output_type": "display_data"
    },
    {
     "name": "stdout",
     "output_type": "stream",
     "text": [
      "2 : 뉴스 제목 : \n",
      "\n",
      "\n",
      "\n",
      " \n",
      "\"'칼졸업' 큰일\", \"첫 월급 300만원도 안돼\" 대학생들 '울상'\t\t\t\t\t[세종=이데일리 강신우 기자] 청년들의 대학 졸업까지 걸린 기간이 평균 4.4년(약 4년 4개월)인 것으로 나타났다. 관련 통계를 작성한 2006년 이후 역대 최장이...\t\t\t\t\n",
      "\n",
      "이데일리2025-07-24\n",
      " : 뉴스링크 : https://news.nate.com/view/20250724n18415?mid=n0300 \n",
      "이미지: https://thumbnews.nateimg.co.kr/news90///news.nateimg.co.kr/orgImg/ed/2025/07/24/PS25072400897.jpg\n",
      "\n"
     ]
    },
    {
     "data": {
      "text/html": [
       "<img src=\"https://thumbnews.nateimg.co.kr/news90///news.nateimg.co.kr/orgImg/ed/2025/07/24/PS25072400897.jpg\"/>"
      ],
      "text/plain": [
       "<IPython.core.display.Image object>"
      ]
     },
     "metadata": {},
     "output_type": "display_data"
    },
    {
     "name": "stdout",
     "output_type": "stream",
     "text": [
      "3 : 뉴스 제목 : \n",
      "\n",
      "\n",
      "\n",
      " \n",
      "코스피, 3200선 탈환…美 관세협상·SK하이닉스 실적 영향\t\t\t\t\t서울 하나은행 본점 딜링룸 전광판에 코스피 종가가 표시되고 있다. 지난 23일 23일 코스피는 전 거래일(3169.94)보다 14.83포인트(0.44%) 오른 3183.77로 마감...\t\t\t\t\n",
      "\n",
      "세계일보2025-07-24\n",
      " : 뉴스링크 : https://news.nate.com/view/20250724n09636?mid=n0300 \n",
      "이미지: https://thumbnews.nateimg.co.kr/news90///news.nateimg.co.kr/orgImg/sg/2025/07/24/20250724505623.jpg\n",
      "\n"
     ]
    },
    {
     "data": {
      "text/html": [
       "<img src=\"https://thumbnews.nateimg.co.kr/news90///news.nateimg.co.kr/orgImg/sg/2025/07/24/20250724505623.jpg\"/>"
      ],
      "text/plain": [
       "<IPython.core.display.Image object>"
      ]
     },
     "metadata": {},
     "output_type": "display_data"
    },
    {
     "name": "stdout",
     "output_type": "stream",
     "text": [
      "print_news('사회')\n",
      "======> https://news.nate.com/section?mid=n0400 사회 뉴스 <======\n",
      "1 : 뉴스 제목 : \n",
      "\n",
      "\n",
      "\n",
      " \n",
      "휴가철인데 '기본 38도' 극한 더위…'쌍태풍'이 해소해 줄까\t\t\t\t\t[앵커]오늘(24일) 전국 대부분 지역에서 폭염 경보가 발효됐습니다. 앞으로도 더위가 계속되면서 38도까지 오를 수 있다고 합니다. 이렇게 더운 건 두 개의 고기...\t\t\t\t\n",
      "\n",
      "JTBC2025-07-24\n",
      " : 뉴스링크 : https://news.nate.com/view/20250724n40321?mid=n0400 \n",
      "이미지: https://thumbnews.nateimg.co.kr/news90///news.nateimg.co.kr/orgImg/jt/2025/07/24/20250724192833956001.jpg\n",
      "\n"
     ]
    },
    {
     "data": {
      "text/html": [
       "<img src=\"https://thumbnews.nateimg.co.kr/news90///news.nateimg.co.kr/orgImg/jt/2025/07/24/20250724192833956001.jpg\"/>"
      ],
      "text/plain": [
       "<IPython.core.display.Image object>"
      ]
     },
     "metadata": {},
     "output_type": "display_data"
    },
    {
     "name": "stdout",
     "output_type": "stream",
     "text": [
      "2 : 뉴스 제목 : \n",
      "\n",
      "\n",
      "\n",
      " \n",
      "[단독] \"비즈니스 모두 태우려 비행기 두대 나눠 예약\"…혈세외유 추적\t\t\t\t\t[앵커]지금부터는 JTBC의 단독 보도 전해드리겠습니다. 56곳 공공기관 상임감사 등 120여 명이 지난주 캐나다로 출장을 갔습니다. 그런데 저희가 입수한 비공개 ...\t\t\t\t\n",
      "\n",
      "JTBC2025-07-24\n",
      " : 뉴스링크 : https://news.nate.com/view/20250724n41348?mid=n0400 \n",
      "이미지: https://thumbnews.nateimg.co.kr/news90///news.nateimg.co.kr/orgImg/jt/2025/07/24/20250724204413024001.jpg\n",
      "\n"
     ]
    },
    {
     "data": {
      "text/html": [
       "<img src=\"https://thumbnews.nateimg.co.kr/news90///news.nateimg.co.kr/orgImg/jt/2025/07/24/20250724204413024001.jpg\"/>"
      ],
      "text/plain": [
       "<IPython.core.display.Image object>"
      ]
     },
     "metadata": {},
     "output_type": "display_data"
    },
    {
     "name": "stdout",
     "output_type": "stream",
     "text": [
      "3 : 뉴스 제목 : \n",
      "\n",
      "\n",
      "\n",
      " \n",
      "[단독] 46억 흘러간 그 회사…'집사 김예성' 무관? 반전 단서 포착\t\t\t\t\t[앵커]'김건희 집사 게이트' 수사도 속도가 붙었습니다. 기업 투자금이 '김건희 집사의 회사'로 넘어갈 때 개입한 사모펀드는 '다른 사람이 100% 지분을 가졌던 ...\t\t\t\t\n",
      "\n",
      "JTBC2025-07-24\n",
      " : 뉴스링크 : https://news.nate.com/view/20250724n38498?mid=n0400 \n",
      "이미지: https://thumbnews.nateimg.co.kr/news90///news.nateimg.co.kr/orgImg/jt/2025/07/24/20250724184442896001.jpg\n",
      "\n"
     ]
    },
    {
     "data": {
      "text/html": [
       "<img src=\"https://thumbnews.nateimg.co.kr/news90///news.nateimg.co.kr/orgImg/jt/2025/07/24/20250724184442896001.jpg\"/>"
      ],
      "text/plain": [
       "<IPython.core.display.Image object>"
      ]
     },
     "metadata": {},
     "output_type": "display_data"
    },
    {
     "name": "stdout",
     "output_type": "stream",
     "text": [
      "print_news('세계')\n",
      "======> https://news.nate.com/section?mid=n0500 세계 뉴스 <======\n",
      "1 : 뉴스 제목 : \n",
      "\n",
      "\n",
      "\n",
      " \n",
      "러 극동서 49명 탑승 노후 여객기 추락…생존자 없는 듯(종합2보)\t\t\t\t\t승객 43명·승무원 6명…1976년 제작돼 '사고빈발' An-24 기종 착륙 준비 중 레이더서 실종…공중수색 중 화염 휩싸인 동체 발견 (모스크바·서울=연합뉴스) 최...\t\t\t\t\n",
      "\n",
      "연합뉴스2025-07-24\n",
      " : 뉴스링크 : https://news.nate.com/view/20250724n41251?mid=n0500 \n",
      "이미지: https://thumbnews.nateimg.co.kr/news90///news.nateimg.co.kr/orgImg/yt/2025/07/24/PAP20250724247801009_P2.jpg\n",
      "\n"
     ]
    },
    {
     "data": {
      "text/html": [
       "<img src=\"https://thumbnews.nateimg.co.kr/news90///news.nateimg.co.kr/orgImg/yt/2025/07/24/PAP20250724247801009_P2.jpg\"/>"
      ],
      "text/plain": [
       "<IPython.core.display.Image object>"
      ]
     },
     "metadata": {},
     "output_type": "display_data"
    },
    {
     "name": "stdout",
     "output_type": "stream",
     "text": [
      "2 : 뉴스 제목 : \n",
      "\n",
      "\n",
      "\n",
      " \n",
      "스페인서 여성 전용 주차장 논란…남녀 모두 \"차별적\"\t\t\t\t\t북서부 레온시, 안전 문제로 여성 전용 공간 마련 여성들 \"남성 중심적 사고\"…남성들 \"성평등에 반해\" (파리=연합뉴스) 송진원 특파원 = 스페인의 한 도시가 여...\t\t\t\t\n",
      "\n",
      "연합뉴스2025-07-24\n",
      " : 뉴스링크 : https://news.nate.com/view/20250724n39215?mid=n0500 \n",
      "이미지: https://thumbnews.nateimg.co.kr/news90///news.nateimg.co.kr/orgImg/yt/2025/07/24/AKR20250724177500081_01_i.jpg\n",
      "\n"
     ]
    },
    {
     "data": {
      "text/html": [
       "<img src=\"https://thumbnews.nateimg.co.kr/news90///news.nateimg.co.kr/orgImg/yt/2025/07/24/AKR20250724177500081_01_i.jpg\"/>"
      ],
      "text/plain": [
       "<IPython.core.display.Image object>"
      ]
     },
     "metadata": {},
     "output_type": "display_data"
    },
    {
     "name": "stdout",
     "output_type": "stream",
     "text": [
      "3 : 뉴스 제목 : \n",
      "\n",
      "\n",
      "\n",
      " \n",
      "러시아 아무르서 49명 탄 여객기 연락두절…추락, 전원 숨진 듯\t\t\t\t\t/안가라 항공 홈페이지러시아 동부 아무르주에서 약 50명이 탑승한 여객기가 연락이 두절됐다.24일 로이터와 타스통신 등에 따르면, 이날 러시아 동부 아무르주 ...\t\t\t\t\n",
      "\n",
      "조선일보2025-07-24\n",
      " : 뉴스링크 : https://news.nate.com/view/20250724n31512?mid=n0500 \n",
      "이미지: https://thumbnews.nateimg.co.kr/news90///news.nateimg.co.kr/orgImg/ch/2025/07/24/ch_1753344604720_335428_0.jpg\n",
      "\n"
     ]
    },
    {
     "data": {
      "text/html": [
       "<img src=\"https://thumbnews.nateimg.co.kr/news90///news.nateimg.co.kr/orgImg/ch/2025/07/24/ch_1753344604720_335428_0.jpg\"/>"
      ],
      "text/plain": [
       "<IPython.core.display.Image object>"
      ]
     },
     "metadata": {},
     "output_type": "display_data"
    },
    {
     "name": "stdout",
     "output_type": "stream",
     "text": [
      "print_news('IT/과학')\n",
      "======> https://news.nate.com/section?mid=n0600 IT/과학 뉴스 <======\n",
      "1 : 뉴스 제목 : \n",
      "\n",
      "\n",
      "\n",
      " \n",
      "\"공짜폰에 현금까지\" 보조금 전쟁 시작…지갑 열리나\t\t\t\t\t[이데일리 윤정훈 기자] 단통법이 폐지된 후 이동통신 시장에서 번호이동 건수가 크게 늘며 통신 3사 간의 가입자 유치 경쟁이 뜨겁게 달아올랐다. 프리미엄폰인...\t\t\t\t\n",
      "\n",
      "이데일리2025-07-24\n",
      " : 뉴스링크 : https://news.nate.com/view/20250724n26720?mid=n0600 \n",
      "이미지: https://thumbnews.nateimg.co.kr/news90///news.nateimg.co.kr/orgImg/ed/2025/07/24/PS25072401111.jpg\n",
      "\n"
     ]
    },
    {
     "data": {
      "text/html": [
       "<img src=\"https://thumbnews.nateimg.co.kr/news90///news.nateimg.co.kr/orgImg/ed/2025/07/24/PS25072401111.jpg\"/>"
      ],
      "text/plain": [
       "<IPython.core.display.Image object>"
      ]
     },
     "metadata": {},
     "output_type": "display_data"
    },
    {
     "name": "stdout",
     "output_type": "stream",
     "text": [
      "2 : 뉴스 제목 : \n",
      "\n",
      "\n",
      "\n",
      " \n",
      "\"이게 된다고?\" 노화 근육 되살린다…세계 최초 '근육 회복 단백질' 발견\t\t\t\t\t[헤럴드경제=구본혁 기자] 노화로 인해 주로 고령자에게 발생하는 근감소증은 근육의 양과 기능이 점차 줄어드는 질환으로, 낙상·골절·보행 장애는 물론 만성...\t\t\t\t\n",
      "\n",
      "헤럴드경제2025-07-24\n",
      " : 뉴스링크 : https://news.nate.com/view/20250724n24870?mid=n0600 \n",
      "이미지: https://thumbnews.nateimg.co.kr/news90///news.nateimg.co.kr/orgImg/hr/2025/07/24/news-p.v1.20250724.52f768a776a445769187d595ea2ec286_P1.jpg\n",
      "\n"
     ]
    },
    {
     "data": {
      "text/html": [
       "<img src=\"https://thumbnews.nateimg.co.kr/news90///news.nateimg.co.kr/orgImg/hr/2025/07/24/news-p.v1.20250724.52f768a776a445769187d595ea2ec286_P1.jpg\"/>"
      ],
      "text/plain": [
       "<IPython.core.display.Image object>"
      ]
     },
     "metadata": {},
     "output_type": "display_data"
    },
    {
     "name": "stdout",
     "output_type": "stream",
     "text": [
      "3 : 뉴스 제목 : \n",
      "\n",
      "\n",
      "\n",
      " \n",
      "'23층 아파트' 크기 소행성, 지구 향해 돌진 중…\"몇 주 내 3개 더 온다\" [핫이슈]\t\t\t\t\t[서울신문 나우뉴스]아파트 23층 높이만 한 소행성이 매우 빠른 속도로 지구를 스쳐 지나갈 예정이다. 미국항공우주국 제트추진연구소(JPL)은 “‘2025 OW’로 ...\t\t\t\t\n",
      "\n",
      "서울신문2025-07-24\n",
      " : 뉴스링크 : https://news.nate.com/view/20250724n12676?mid=n0600 \n",
      "이미지: https://thumbnews.nateimg.co.kr/news90///news.nateimg.co.kr/orgImg/no/2025/07/24/SSC_20250724102611_V.jpg\n",
      "\n"
     ]
    },
    {
     "data": {
      "text/html": [
       "<img src=\"https://thumbnews.nateimg.co.kr/news90///news.nateimg.co.kr/orgImg/no/2025/07/24/SSC_20250724102611_V.jpg\"/>"
      ],
      "text/plain": [
       "<IPython.core.display.Image object>"
      ]
     },
     "metadata": {},
     "output_type": "display_data"
    }
   ],
   "source": [
    "import requests\n",
    "from bs4 import BeautifulSoup\n",
    "from urllib.parse import urljoin\n",
    "from IPython.display import Image, display\n",
    "\n",
    "nate_dict = {\"최신뉴스\" : \"n0100\", \"정치\" : \"n0200\" , \"경제\" : \"n0300\", \"사회\" : \"n0400\", \"세계\" : \"n0500\", \"IT/과학\" : \"n0600\"} \n",
    "\n",
    "\n",
    "def print_news(section_name):\n",
    "    sid = nate_dict[section_name]\n",
    "    url = f'https://news.nate.com/section?mid={sid}'\n",
    "\n",
    "    req_header = {\n",
    "    \"user-agent\" : \"Mozilla/5.0 (Windows NT 10.0; Win64; x64) AppleWebKit/537.36 (KHTML, like Gecko) Chrome/138.0.0.0 Safari/537.36\"\n",
    "    }\n",
    "    \n",
    "    res = requests.get(url, headers=req_header)\n",
    "    res.encoding = res.apparent_encoding\n",
    "\n",
    "    if res.ok:\n",
    "        html = res.text\n",
    "        # BeautifulSoup 객체 생성\n",
    "        soup = BeautifulSoup(html,\"html.parser\")\n",
    "\n",
    "        li_n_tags = soup.select('div.mlt01')  \n",
    "        # print(len(li_n_tags))\n",
    "\n",
    "        print(f\"print_news('{section_name}')\")\n",
    "        print(f\"======> {url} {section_name} 뉴스 <======\")\n",
    "        for idx, li_tag in enumerate(li_n_tags[:3], 1):\n",
    "            a_tag = li_tag.find('a')\n",
    "            link = urljoin(url,a_tag['href'])\n",
    "            title = li_tag.text\n",
    "            img_tag = li_tag.select_one('span.ib img')\n",
    "            if img_tag and 'src' in img_tag.attrs:\n",
    "                img_src = urljoin(url, img_tag['src'])\n",
    "                print(f'{idx} : 뉴스 제목 : {title} : 뉴스링크 : {link} \\n이미지: {img_src}\\n')\n",
    "                display(Image(url=img_src))  # 노트북 환경에서만\n",
    "            else:\n",
    "                print(f'{title} : {link} \\n(이미지 없음)\\n')\n",
    "\n",
    "    else:\n",
    "         print(f\"Error Code = {res.status_code}\")\n",
    "\n",
    "\n",
    "print_news(\"최신뉴스\")\n",
    "print_news(\"정치\")\n",
    "print_news(\"경제\")\n",
    "print_news(\"사회\")\n",
    "print_news(\"세계\")\n",
    "print_news(\"IT/과학\")"
   ]
  }
 ],
 "metadata": {
  "kernelspec": {
   "display_name": "base",
   "language": "python",
   "name": "python3"
  },
  "language_info": {
   "codemirror_mode": {
    "name": "ipython",
    "version": 3
   },
   "file_extension": ".py",
   "mimetype": "text/x-python",
   "name": "python",
   "nbconvert_exporter": "python",
   "pygments_lexer": "ipython3",
   "version": "3.12.7"
  }
 },
 "nbformat": 4,
 "nbformat_minor": 5
}
