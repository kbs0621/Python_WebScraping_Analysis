{
 "cells": [
  {
   "cell_type": "code",
   "execution_count": 15,
   "id": "17a00114",
   "metadata": {},
   "outputs": [
    {
     "name": "stdout",
     "output_type": "stream",
     "text": [
      "print_news('사회')\n",
      "======> https://news.daum.net/society 사회 뉴스 <======\n",
      "1 : 길고양이 연쇄 독살 의심…잔혹 동물학대 '왜 이러나' \"길고양이가 신경은 쓰일지언정 학대하거나 죽여서는 안 되지.\" 22일 오전 10시께 창원시 마산합포구 문화동 소하천에서 만난 한 80대 주민은 최근 동네에서 길고양이가 연쇄적으로 죽었다는 소식에 안타깝다는 반응을 보였다. 다른 80대 주민은 \"올해 봄에도 길고양이 사체를 봤었다\"며 혀를 찼다. 평온한 동네에서 최근 길고양이가 잇따라 숨진 채 발견됐다. 목격 경남도민일보 1분 전 : https://v.daum.net/v/20250722182518761\n",
      "2 : 성신여대 서수연 교수팀 “밤잠 가장 짧은 한국 아기… 산모 불면증 비율도 가장 높아” 디지털타임스 3분 전 : https://v.daum.net/v/20250722182405722\n",
      "3 : 본과 3학년 대학별 '자율 졸업'···의대 정상화 가닥 서울경제 4분 전 : https://v.daum.net/v/20250722182242662\n",
      "4 : [단독] 등록금 동결에 월급봉투 얇아졌나…기업 사외이사 투잡뛰는 교수님들 매일경제 6분 전 : https://v.daum.net/v/20250722182100596\n",
      "5 : [단독] 가정위탁 양육보조금, 서울·인천만 기준 충족 세계일보 9분 전 : https://v.daum.net/v/20250722181743481\n",
      "6 : 광주 고려인들이 보인 지역사회 '공존의 모범' 전남일보 16분 전 : https://v.daum.net/v/20250722181054241\n",
      "7 : 동영상     '집사' 지인 등 줄줄이 소환...통일교 윤영호 출석 YTN 17분 전 : https://v.daum.net/v/20250722181013219\n",
      "8 : 고2 ‘수포자’ 줄었다… 국어 기초학력 미달 비율은 증가세 파이낸셜뉴스 21분 전 : https://v.daum.net/v/20250722180607028\n",
      "9 : \"같은 다이소인데 직영점선 못 써\"…소비쿠폰 사용처 '혼란' 한국경제 22분 전 : https://v.daum.net/v/20250722180504989\n",
      "\n",
      "\n",
      "print_news('경제')\n",
      "======> https://news.daum.net/economy 경제 뉴스 <======\n",
      "1 : 꾸준히 강세 흐름 보이는 메이저 알트코인들 : 코리안 크립토 위클리 [INFCL 리서치] 1. 시장 개요 지난주에도 한국 거래소들은 신규 상장으로 활발한 활동을 이어갔습니다. 업비트는 칼데라(ERA)를 도입했고, 빗썸은 칼데라와 이클립스(ES)를 모두 상장하며 생태계 주도 프로젝트를 추가하는 추세를 이어가고 있습니다. 이러한 리스팅은 특히 알트코인 회전에 참여하는 사용자들로부터 중간 정도의 관심을 끌었습니다. 거래 활동 측면에서 보면, 두 거래 한국경제 16분 전 : https://v.daum.net/v/20250722181057244\n",
      "2 : 세계시장 제패한 K뷰티·푸드…'첨단' 아니라며 R&D지원은 쥐꼬리 한국경제 31분 전 : https://v.daum.net/v/20250722175548581\n",
      "3 : 백만이상 日도시 100년뒤 11개→4개 ‘뚝’...“韓 소멸속도 더 빨라” 매일경제 36분 전 : https://v.daum.net/v/20250722175106335\n",
      "4 : 동영상     예금자보호 1억 시대…내 돈 어디에 맡길까? 한국경제TV 39분 전 : https://v.daum.net/v/20250722174746199\n",
      "5 : 전재수 해수 후보자 조선업 '신경전'에 김정관 산업장관 '신중론' 더팩트 44분 전 : https://v.daum.net/v/20250722174241984\n",
      "6 : 식재료비 뛰고 사장님은 늙고…동네 백반집이 사라진다 중앙일보 1시간 전 : https://v.daum.net/v/20250722171546881\n",
      "7 : “흑자 전환 노린다” 국내외 의료 AI, 실적 경쟁 치열 조선비즈 1시간 전 : https://v.daum.net/v/20250722171502827\n",
      "8 : 한국블록체인스타트업협회 조원희 회장 취임…산업 융합과 글로벌 진출의 ‘종합 허브’ 선언 아시아경제 2시간 전 : https://v.daum.net/v/20250722164636610\n",
      "9 : 범여권 '자사주 소각 의무화' 공세에…野 '포이즌필 제도화' 맞대응 중앙일보 2시간 전 : https://v.daum.net/v/20250722164503546\n"
     ]
    }
   ],
   "source": [
    "import requests\n",
    "from bs4 import BeautifulSoup\n",
    "\n",
    "\n",
    "section_dict = {\"기후/환경\" : \"climate\", \"사회\" : \"society\", \"경제\" : \"economy\", \"정치\" : \"politics\", \"국제\" : \"world\", \"문화\" : \"culture\"}\n",
    "\n",
    "\n",
    "def print_news(section_name):\n",
    "    sid = section_dict[section_name]\n",
    "    url = f'https://news.daum.net/{sid}'\n",
    "\n",
    "    req_header = {\n",
    "    \"user-agent\" : \"Mozilla/5.0 (Windows NT 10.0; Win64; x64) AppleWebKit/537.36 (KHTML, like Gecko) Chrome/138.0.0.0 Safari/537.36\"\n",
    "    }\n",
    "    \n",
    "    res = requests.get(url,headers=req_header)\n",
    "    res.encoding = 'utf-8'\n",
    "\n",
    "    if res.ok:\n",
    "        html = res.text\n",
    "        # BeautifulSoup 객체 생성\n",
    "        soup = BeautifulSoup(html,\"html.parser\")\n",
    "        n_tags = soup.select(\"a[href*='https://v.daum.net/v/'].item_newsheadline2\")\n",
    "        \n",
    "\n",
    "        print(f\"print_news('{section_name}')\")\n",
    "        print(f\"======> {url} {section_name} 뉴스 <======\")\n",
    "        for idx, n_tag in  enumerate(n_tags,1):\n",
    "            if n_tag.text:\n",
    "                title = n_tag.text.strip()\n",
    "                link = n_tag['href']\n",
    "                print(f\"{idx} : {title} : {link}\")\n",
    "\n",
    "    else:\n",
    "        print(f\"Error Code = {res.status_code}\")\n",
    "\n",
    "print_news(\"사회\")\n",
    "print(\"\\n\")\n",
    "print_news(\"경제\")\n",
    "\n"
   ]
  }
 ],
 "metadata": {
  "kernelspec": {
   "display_name": "base",
   "language": "python",
   "name": "python3"
  },
  "language_info": {
   "codemirror_mode": {
    "name": "ipython",
    "version": 3
   },
   "file_extension": ".py",
   "mimetype": "text/x-python",
   "name": "python",
   "nbconvert_exporter": "python",
   "pygments_lexer": "ipython3",
   "version": "3.12.7"
  }
 },
 "nbformat": 4,
 "nbformat_minor": 5
}
